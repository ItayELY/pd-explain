{
 "cells": [
  {
   "cell_type": "code",
   "execution_count": null,
   "metadata": {},
   "outputs": [
    {
     "name": "stdout",
     "output_type": "stream",
     "text": [
      "Defaulting to user installation because normal site-packages is not writeableNote: you may need to restart the kernel to use updated packages.\n",
      "\n",
      "Requirement already satisfied: pandas in c:\\users\\itaye\\appdata\\local\\packages\\pythonsoftwarefoundation.python.3.12_qbz5n2kfra8p0\\localcache\\local-packages\\python312\\site-packages (2.2.0)\n",
      "Requirement already satisfied: numpy<2,>=1.26.0 in c:\\users\\itaye\\appdata\\local\\packages\\pythonsoftwarefoundation.python.3.12_qbz5n2kfra8p0\\localcache\\local-packages\\python312\\site-packages (from pandas) (1.26.4)\n",
      "Requirement already satisfied: python-dateutil>=2.8.2 in c:\\users\\itaye\\appdata\\local\\packages\\pythonsoftwarefoundation.python.3.12_qbz5n2kfra8p0\\localcache\\local-packages\\python312\\site-packages (from pandas) (2.8.2)\n",
      "Requirement already satisfied: pytz>=2020.1 in c:\\users\\itaye\\appdata\\local\\packages\\pythonsoftwarefoundation.python.3.12_qbz5n2kfra8p0\\localcache\\local-packages\\python312\\site-packages (from pandas) (2024.1)\n",
      "Requirement already satisfied: tzdata>=2022.7 in c:\\users\\itaye\\appdata\\local\\packages\\pythonsoftwarefoundation.python.3.12_qbz5n2kfra8p0\\localcache\\local-packages\\python312\\site-packages (from pandas) (2024.1)\n",
      "Requirement already satisfied: six>=1.5 in c:\\users\\itaye\\appdata\\local\\packages\\pythonsoftwarefoundation.python.3.12_qbz5n2kfra8p0\\localcache\\local-packages\\python312\\site-packages (from python-dateutil>=2.8.2->pandas) (1.16.0)\n"
     ]
    }
   ],
   "source": [
    "%pip install pandas"
   ]
  },
  {
   "cell_type": "code",
   "execution_count": 1,
   "metadata": {},
   "outputs": [
    {
     "name": "stdout",
     "output_type": "stream",
     "text": [
      "Requirement already satisfied: wheel in c:\\users\\user\\appdata\\local\\programs\\python\\python312\\lib\\site-packages (from -r C:\\Users\\User\\Desktop\\pd_explain_test\\pd-explain\\requirements.txt (line 1)) (0.42.0)\n",
      "Requirement already satisfied: pandas>=1.4.2 in c:\\users\\user\\appdata\\local\\programs\\python\\python312\\lib\\site-packages (from -r C:\\Users\\User\\Desktop\\pd_explain_test\\pd-explain\\requirements.txt (line 2)) (2.2.0)\n",
      "Requirement already satisfied: numpy>=1.20.3 in c:\\users\\user\\appdata\\local\\programs\\python\\python312\\lib\\site-packages (from -r C:\\Users\\User\\Desktop\\pd_explain_test\\pd-explain\\requirements.txt (line 3)) (1.26.4)\n",
      "Requirement already satisfied: python-dotenv>=0.20.0 in c:\\users\\user\\appdata\\local\\programs\\python\\python312\\lib\\site-packages (from -r C:\\Users\\User\\Desktop\\pd_explain_test\\pd-explain\\requirements.txt (line 4)) (1.0.1)\n",
      "Requirement already satisfied: singleton-decorator in c:\\users\\user\\appdata\\local\\programs\\python\\python312\\lib\\site-packages (from -r C:\\Users\\User\\Desktop\\pd_explain_test\\pd-explain\\requirements.txt (line 5)) (1.0.0)\n",
      "Requirement already satisfied: matplotlib>=3.5.1 in c:\\users\\user\\appdata\\local\\programs\\python\\python312\\lib\\site-packages (from -r C:\\Users\\User\\Desktop\\pd_explain_test\\pd-explain\\requirements.txt (line 6)) (3.8.3)\n",
      "Requirement already satisfied: setuptools>=60.2.0 in c:\\users\\user\\appdata\\local\\programs\\python\\python312\\lib\\site-packages (from -r C:\\Users\\User\\Desktop\\pd_explain_test\\pd-explain\\requirements.txt (line 7)) (69.1.0)\n",
      "Requirement already satisfied: fedex-generator>=0.0.7 in c:\\users\\user\\appdata\\local\\programs\\python\\python312\\lib\\site-packages (from -r C:\\Users\\User\\Desktop\\pd_explain_test\\pd-explain\\requirements.txt (line 8)) (0.0.7)\n",
      "Requirement already satisfied: python-dateutil>=2.8.2 in c:\\users\\user\\appdata\\roaming\\python\\python312\\site-packages (from pandas>=1.4.2->-r C:\\Users\\User\\Desktop\\pd_explain_test\\pd-explain\\requirements.txt (line 2)) (2.8.2)\n",
      "Requirement already satisfied: pytz>=2020.1 in c:\\users\\user\\appdata\\local\\programs\\python\\python312\\lib\\site-packages (from pandas>=1.4.2->-r C:\\Users\\User\\Desktop\\pd_explain_test\\pd-explain\\requirements.txt (line 2)) (2024.1)\n",
      "Requirement already satisfied: tzdata>=2022.7 in c:\\users\\user\\appdata\\local\\programs\\python\\python312\\lib\\site-packages (from pandas>=1.4.2->-r C:\\Users\\User\\Desktop\\pd_explain_test\\pd-explain\\requirements.txt (line 2)) (2024.1)\n",
      "Requirement already satisfied: contourpy>=1.0.1 in c:\\users\\user\\appdata\\local\\programs\\python\\python312\\lib\\site-packages (from matplotlib>=3.5.1->-r C:\\Users\\User\\Desktop\\pd_explain_test\\pd-explain\\requirements.txt (line 6)) (1.2.0)\n",
      "Requirement already satisfied: cycler>=0.10 in c:\\users\\user\\appdata\\local\\programs\\python\\python312\\lib\\site-packages (from matplotlib>=3.5.1->-r C:\\Users\\User\\Desktop\\pd_explain_test\\pd-explain\\requirements.txt (line 6)) (0.12.1)\n",
      "Requirement already satisfied: fonttools>=4.22.0 in c:\\users\\user\\appdata\\local\\programs\\python\\python312\\lib\\site-packages (from matplotlib>=3.5.1->-r C:\\Users\\User\\Desktop\\pd_explain_test\\pd-explain\\requirements.txt (line 6)) (4.49.0)\n",
      "Requirement already satisfied: kiwisolver>=1.3.1 in c:\\users\\user\\appdata\\local\\programs\\python\\python312\\lib\\site-packages (from matplotlib>=3.5.1->-r C:\\Users\\User\\Desktop\\pd_explain_test\\pd-explain\\requirements.txt (line 6)) (1.4.5)\n",
      "Requirement already satisfied: packaging>=20.0 in c:\\users\\user\\appdata\\roaming\\python\\python312\\site-packages (from matplotlib>=3.5.1->-r C:\\Users\\User\\Desktop\\pd_explain_test\\pd-explain\\requirements.txt (line 6)) (23.2)\n",
      "Requirement already satisfied: pillow>=8 in c:\\users\\user\\appdata\\local\\programs\\python\\python312\\lib\\site-packages (from matplotlib>=3.5.1->-r C:\\Users\\User\\Desktop\\pd_explain_test\\pd-explain\\requirements.txt (line 6)) (10.2.0)\n",
      "Requirement already satisfied: pyparsing>=2.3.1 in c:\\users\\user\\appdata\\local\\programs\\python\\python312\\lib\\site-packages (from matplotlib>=3.5.1->-r C:\\Users\\User\\Desktop\\pd_explain_test\\pd-explain\\requirements.txt (line 6)) (3.1.1)\n",
      "Requirement already satisfied: ipython in c:\\users\\user\\appdata\\roaming\\python\\python312\\site-packages (from fedex-generator>=0.0.7->-r C:\\Users\\User\\Desktop\\pd_explain_test\\pd-explain\\requirements.txt (line 8)) (8.21.0)\n",
      "Requirement already satisfied: scipy in c:\\users\\user\\appdata\\local\\programs\\python\\python312\\lib\\site-packages (from fedex-generator>=0.0.7->-r C:\\Users\\User\\Desktop\\pd_explain_test\\pd-explain\\requirements.txt (line 8)) (1.12.0)\n",
      "Requirement already satisfied: paretoset in c:\\users\\user\\appdata\\local\\programs\\python\\python312\\lib\\site-packages (from fedex-generator>=0.0.7->-r C:\\Users\\User\\Desktop\\pd_explain_test\\pd-explain\\requirements.txt (line 8)) (1.2.3)\n",
      "Requirement already satisfied: six>=1.5 in c:\\users\\user\\appdata\\roaming\\python\\python312\\site-packages (from python-dateutil>=2.8.2->pandas>=1.4.2->-r C:\\Users\\User\\Desktop\\pd_explain_test\\pd-explain\\requirements.txt (line 2)) (1.16.0)\n",
      "Requirement already satisfied: decorator in c:\\users\\user\\appdata\\roaming\\python\\python312\\site-packages (from ipython->fedex-generator>=0.0.7->-r C:\\Users\\User\\Desktop\\pd_explain_test\\pd-explain\\requirements.txt (line 8)) (5.1.1)\n",
      "Requirement already satisfied: jedi>=0.16 in c:\\users\\user\\appdata\\roaming\\python\\python312\\site-packages (from ipython->fedex-generator>=0.0.7->-r C:\\Users\\User\\Desktop\\pd_explain_test\\pd-explain\\requirements.txt (line 8)) (0.19.1)\n",
      "Requirement already satisfied: matplotlib-inline in c:\\users\\user\\appdata\\roaming\\python\\python312\\site-packages (from ipython->fedex-generator>=0.0.7->-r C:\\Users\\User\\Desktop\\pd_explain_test\\pd-explain\\requirements.txt (line 8)) (0.1.6)\n",
      "Requirement already satisfied: prompt-toolkit<3.1.0,>=3.0.41 in c:\\users\\user\\appdata\\roaming\\python\\python312\\site-packages (from ipython->fedex-generator>=0.0.7->-r C:\\Users\\User\\Desktop\\pd_explain_test\\pd-explain\\requirements.txt (line 8)) (3.0.43)\n",
      "Requirement already satisfied: pygments>=2.4.0 in c:\\users\\user\\appdata\\roaming\\python\\python312\\site-packages (from ipython->fedex-generator>=0.0.7->-r C:\\Users\\User\\Desktop\\pd_explain_test\\pd-explain\\requirements.txt (line 8)) (2.17.2)\n",
      "Requirement already satisfied: stack-data in c:\\users\\user\\appdata\\roaming\\python\\python312\\site-packages (from ipython->fedex-generator>=0.0.7->-r C:\\Users\\User\\Desktop\\pd_explain_test\\pd-explain\\requirements.txt (line 8)) (0.6.3)\n",
      "Requirement already satisfied: traitlets>=5 in c:\\users\\user\\appdata\\roaming\\python\\python312\\site-packages (from ipython->fedex-generator>=0.0.7->-r C:\\Users\\User\\Desktop\\pd_explain_test\\pd-explain\\requirements.txt (line 8)) (5.14.1)\n",
      "Requirement already satisfied: colorama in c:\\users\\user\\appdata\\roaming\\python\\python312\\site-packages (from ipython->fedex-generator>=0.0.7->-r C:\\Users\\User\\Desktop\\pd_explain_test\\pd-explain\\requirements.txt (line 8)) (0.4.6)\n",
      "Requirement already satisfied: parso<0.9.0,>=0.8.3 in c:\\users\\user\\appdata\\roaming\\python\\python312\\site-packages (from jedi>=0.16->ipython->fedex-generator>=0.0.7->-r C:\\Users\\User\\Desktop\\pd_explain_test\\pd-explain\\requirements.txt (line 8)) (0.8.3)\n",
      "Requirement already satisfied: wcwidth in c:\\users\\user\\appdata\\roaming\\python\\python312\\site-packages (from prompt-toolkit<3.1.0,>=3.0.41->ipython->fedex-generator>=0.0.7->-r C:\\Users\\User\\Desktop\\pd_explain_test\\pd-explain\\requirements.txt (line 8)) (0.2.13)\n",
      "Requirement already satisfied: executing>=1.2.0 in c:\\users\\user\\appdata\\roaming\\python\\python312\\site-packages (from stack-data->ipython->fedex-generator>=0.0.7->-r C:\\Users\\User\\Desktop\\pd_explain_test\\pd-explain\\requirements.txt (line 8)) (2.0.1)\n",
      "Requirement already satisfied: asttokens>=2.1.0 in c:\\users\\user\\appdata\\roaming\\python\\python312\\site-packages (from stack-data->ipython->fedex-generator>=0.0.7->-r C:\\Users\\User\\Desktop\\pd_explain_test\\pd-explain\\requirements.txt (line 8)) (2.4.1)\n",
      "Requirement already satisfied: pure-eval in c:\\users\\user\\appdata\\roaming\\python\\python312\\site-packages (from stack-data->ipython->fedex-generator>=0.0.7->-r C:\\Users\\User\\Desktop\\pd_explain_test\\pd-explain\\requirements.txt (line 8)) (0.2.2)\n",
      "Note: you may need to restart the kernel to use updated packages.\n"
     ]
    },
    {
     "name": "stderr",
     "output_type": "stream",
     "text": [
      "\n",
      "[notice] A new release of pip is available: 23.2.1 -> 24.0\n",
      "[notice] To update, run: python.exe -m pip install --upgrade pip\n"
     ]
    }
   ],
   "source": [
    "%pip install -r C:\\Users\\User\\Desktop\\pd_explain_test\\pd-explain\\requirements.txt"
   ]
  },
  {
   "cell_type": "code",
   "execution_count": 2,
   "metadata": {},
   "outputs": [
    {
     "name": "stdout",
     "output_type": "stream",
     "text": [
      "[WinError 3] The system cannot find the path specified: 'C:\\\\Users\\\\itaye\\\\Desktop\\\\pdexplain\\\\pd-explain\\\\src'\n",
      "c:\\Users\\User\\Desktop\\pd_explain_test\\pd-explain\\Examples\\Notebooks\n"
     ]
    },
    {
     "name": "stderr",
     "output_type": "stream",
     "text": [
      "C:\\Users\\User\\AppData\\Roaming\\Python\\Python312\\site-packages\\IPython\\core\\magics\\osm.py:393: UserWarning: using bookmarks requires you to install the `pickleshare` library.\n",
      "  bkms = self.shell.db.get('bookmarks', {})\n"
     ]
    }
   ],
   "source": [
    "%cd C:\\Users\\itaye\\Desktop\\pdexplain\\pd-explain\\src"
   ]
  },
  {
   "cell_type": "code",
   "execution_count": 3,
   "metadata": {},
   "outputs": [
    {
     "name": "stdout",
     "output_type": "stream",
     "text": [
      " Volume in drive C has no label.\n",
      " Volume Serial Number is A617-A799\n",
      "\n",
      " Directory of c:\\Users\\User\\Desktop\\pd_explain_test\\pd-explain\\Examples\\Notebooks\n",
      "\n",
      "02/18/2024  12:50 PM    <DIR>          .\n",
      "02/18/2024  12:50 PM    <DIR>          ..\n",
      "02/18/2024  12:50 PM           356,748 Bank Churners Pitch.ipynb\n",
      "02/18/2024  12:50 PM           783,227 Houses_Explore.ipynb\n",
      "02/18/2024  12:50 PM           831,022 PD-explain DEMO.ipynb\n",
      "               3 File(s)      1,970,997 bytes\n",
      "               2 Dir(s)  147,499,864,064 bytes free\n"
     ]
    }
   ],
   "source": [
    "%ls"
   ]
  },
  {
   "cell_type": "code",
   "execution_count": 1,
   "metadata": {},
   "outputs": [
    {
     "name": "stdout",
     "output_type": "stream",
     "text": [
      "Requirement already satisfied: pd-explain in c:\\users\\user\\appdata\\local\\programs\\python\\python312\\lib\\site-packages (0.0.11)\n",
      "Requirement already satisfied: wheel in c:\\users\\user\\appdata\\local\\programs\\python\\python312\\lib\\site-packages (from pd-explain) (0.42.0)\n",
      "Requirement already satisfied: pandas>=1.4.2 in c:\\users\\user\\appdata\\local\\programs\\python\\python312\\lib\\site-packages (from pd-explain) (2.2.0)\n",
      "Requirement already satisfied: numpy>=1.20.3 in c:\\users\\user\\appdata\\local\\programs\\python\\python312\\lib\\site-packages (from pd-explain) (1.26.4)\n",
      "Requirement already satisfied: python-dotenv in c:\\users\\user\\appdata\\local\\programs\\python\\python312\\lib\\site-packages (from pd-explain) (1.0.1)\n",
      "Requirement already satisfied: singleton-decorator in c:\\users\\user\\appdata\\local\\programs\\python\\python312\\lib\\site-packages (from pd-explain) (1.0.0)\n",
      "Requirement already satisfied: matplotlib in c:\\users\\user\\appdata\\local\\programs\\python\\python312\\lib\\site-packages (from pd-explain) (3.8.3)\n",
      "Requirement already satisfied: fedex-generator>=0.0.5 in c:\\users\\user\\appdata\\local\\programs\\python\\python312\\lib\\site-packages (from pd-explain) (0.0.7)\n",
      "Requirement already satisfied: ipython in c:\\users\\user\\appdata\\roaming\\python\\python312\\site-packages (from fedex-generator>=0.0.5->pd-explain) (8.21.0)\n",
      "Requirement already satisfied: scipy in c:\\users\\user\\appdata\\local\\programs\\python\\python312\\lib\\site-packages (from fedex-generator>=0.0.5->pd-explain) (1.12.0)\n",
      "Requirement already satisfied: paretoset in c:\\users\\user\\appdata\\local\\programs\\python\\python312\\lib\\site-packages (from fedex-generator>=0.0.5->pd-explain) (1.2.3)\n",
      "Requirement already satisfied: python-dateutil>=2.8.2 in c:\\users\\user\\appdata\\roaming\\python\\python312\\site-packages (from pandas>=1.4.2->pd-explain) (2.8.2)\n",
      "Requirement already satisfied: pytz>=2020.1 in c:\\users\\user\\appdata\\local\\programs\\python\\python312\\lib\\site-packages (from pandas>=1.4.2->pd-explain) (2024.1)\n",
      "Requirement already satisfied: tzdata>=2022.7 in c:\\users\\user\\appdata\\local\\programs\\python\\python312\\lib\\site-packages (from pandas>=1.4.2->pd-explain) (2024.1)\n",
      "Requirement already satisfied: contourpy>=1.0.1 in c:\\users\\user\\appdata\\local\\programs\\python\\python312\\lib\\site-packages (from matplotlib->pd-explain) (1.2.0)\n",
      "Requirement already satisfied: cycler>=0.10 in c:\\users\\user\\appdata\\local\\programs\\python\\python312\\lib\\site-packages (from matplotlib->pd-explain) (0.12.1)\n",
      "Requirement already satisfied: fonttools>=4.22.0 in c:\\users\\user\\appdata\\local\\programs\\python\\python312\\lib\\site-packages (from matplotlib->pd-explain) (4.49.0)\n",
      "Requirement already satisfied: kiwisolver>=1.3.1 in c:\\users\\user\\appdata\\local\\programs\\python\\python312\\lib\\site-packages (from matplotlib->pd-explain) (1.4.5)\n",
      "Requirement already satisfied: packaging>=20.0 in c:\\users\\user\\appdata\\roaming\\python\\python312\\site-packages (from matplotlib->pd-explain) (23.2)\n",
      "Requirement already satisfied: pillow>=8 in c:\\users\\user\\appdata\\local\\programs\\python\\python312\\lib\\site-packages (from matplotlib->pd-explain) (10.2.0)\n",
      "Requirement already satisfied: pyparsing>=2.3.1 in c:\\users\\user\\appdata\\local\\programs\\python\\python312\\lib\\site-packages (from matplotlib->pd-explain) (3.1.1)\n",
      "Requirement already satisfied: six>=1.5 in c:\\users\\user\\appdata\\roaming\\python\\python312\\site-packages (from python-dateutil>=2.8.2->pandas>=1.4.2->pd-explain) (1.16.0)\n",
      "Requirement already satisfied: decorator in c:\\users\\user\\appdata\\roaming\\python\\python312\\site-packages (from ipython->fedex-generator>=0.0.5->pd-explain) (5.1.1)\n",
      "Requirement already satisfied: jedi>=0.16 in c:\\users\\user\\appdata\\roaming\\python\\python312\\site-packages (from ipython->fedex-generator>=0.0.5->pd-explain) (0.19.1)\n",
      "Requirement already satisfied: matplotlib-inline in c:\\users\\user\\appdata\\roaming\\python\\python312\\site-packages (from ipython->fedex-generator>=0.0.5->pd-explain) (0.1.6)\n",
      "Requirement already satisfied: prompt-toolkit<3.1.0,>=3.0.41 in c:\\users\\user\\appdata\\roaming\\python\\python312\\site-packages (from ipython->fedex-generator>=0.0.5->pd-explain) (3.0.43)\n",
      "Requirement already satisfied: pygments>=2.4.0 in c:\\users\\user\\appdata\\roaming\\python\\python312\\site-packages (from ipython->fedex-generator>=0.0.5->pd-explain) (2.17.2)\n",
      "Requirement already satisfied: stack-data in c:\\users\\user\\appdata\\roaming\\python\\python312\\site-packages (from ipython->fedex-generator>=0.0.5->pd-explain) (0.6.3)\n",
      "Requirement already satisfied: traitlets>=5 in c:\\users\\user\\appdata\\roaming\\python\\python312\\site-packages (from ipython->fedex-generator>=0.0.5->pd-explain) (5.14.1)\n",
      "Requirement already satisfied: colorama in c:\\users\\user\\appdata\\roaming\\python\\python312\\site-packages (from ipython->fedex-generator>=0.0.5->pd-explain) (0.4.6)\n",
      "Requirement already satisfied: parso<0.9.0,>=0.8.3 in c:\\users\\user\\appdata\\roaming\\python\\python312\\site-packages (from jedi>=0.16->ipython->fedex-generator>=0.0.5->pd-explain) (0.8.3)\n",
      "Requirement already satisfied: wcwidth in c:\\users\\user\\appdata\\roaming\\python\\python312\\site-packages (from prompt-toolkit<3.1.0,>=3.0.41->ipython->fedex-generator>=0.0.5->pd-explain) (0.2.13)\n",
      "Requirement already satisfied: executing>=1.2.0 in c:\\users\\user\\appdata\\roaming\\python\\python312\\site-packages (from stack-data->ipython->fedex-generator>=0.0.5->pd-explain) (2.0.1)\n",
      "Requirement already satisfied: asttokens>=2.1.0 in c:\\users\\user\\appdata\\roaming\\python\\python312\\site-packages (from stack-data->ipython->fedex-generator>=0.0.5->pd-explain) (2.4.1)\n",
      "Requirement already satisfied: pure-eval in c:\\users\\user\\appdata\\roaming\\python\\python312\\site-packages (from stack-data->ipython->fedex-generator>=0.0.5->pd-explain) (0.2.2)\n",
      "Note: you may need to restart the kernel to use updated packages.\n"
     ]
    },
    {
     "name": "stderr",
     "output_type": "stream",
     "text": [
      "\n",
      "[notice] A new release of pip is available: 23.2.1 -> 24.0\n",
      "[notice] To update, run: python.exe -m pip install --upgrade pip\n"
     ]
    }
   ],
   "source": [
    "pip install pd-explain"
   ]
  },
  {
   "cell_type": "code",
   "execution_count": 2,
   "metadata": {
    "pycharm": {
     "name": "#%%\n"
    }
   },
   "outputs": [
    {
     "name": "stderr",
     "output_type": "stream",
     "text": [
      "C:\\Users\\User\\AppData\\Local\\Temp\\ipykernel_18496\\2046952530.py:1: DeprecationWarning: \n",
      "Pyarrow will become a required dependency of pandas in the next major release of pandas (pandas 3.0),\n",
      "(to allow more performant data types, such as the Arrow string type, and better interoperability with other libraries)\n",
      "but was not found to be installed on your system.\n",
      "If this would cause problems for you,\n",
      "please provide us feedback at https://github.com/pandas-dev/pandas/issues/54466\n",
      "        \n",
      "  import pandas as pd\n"
     ]
    },
    {
     "name": "stdout",
     "output_type": "stream",
     "text": [
      "usetex-False\n"
     ]
    }
   ],
   "source": [
    "import pandas as pd\n",
    "import pd_explain"
   ]
  },
  {
   "cell_type": "markdown",
   "metadata": {
    "pycharm": {
     "name": "#%% md\n"
    }
   },
   "source": [
    "# Bank Churners Dataset\n",
    "\n",
    "\n",
    "**CLIENTNUM** : Client number. Unique identifier for the customer holding the account\n",
    "\n",
    "**Attrition_Flag :** Internal event (customer activity) variable - if the account is closed then 1 else 0\n",
    "\n",
    "**Dependent_count :** Demographic variable - Number of dependents\n",
    "\n",
    "**Total_Relationship_Count :** Total no. of products held by the customer\n",
    "\n",
    "**Total_Revolving_Bal :** Total Revolving Balance on the Credit Card\n",
    "\n",
    "**Avg_Open_To_Buy :** Open to Buy Credit Line (Average of last 12 months)\n",
    "\n",
    "**Months_on_book :** Period of relationship with bank\n",
    "\n",
    "**Months_Inactive_12_mon :** No. of months inactive in the last 12 months\n",
    "\n",
    "**Contacts_Count_12_mon :** No. of Contacts in the last 12 months\n",
    "\n",
    "**Total_Amt_Chng_Q4_Q1 :** Change in Transaction Amount (Q4 over Q1)\n",
    "\n",
    "**Total_Trans_Amt :** Total Transaction Amount (Last 12 months)\n",
    "\n",
    "**Total_Trans_Ct :** Total Transaction Count (Last 12 months)\n",
    "\n",
    "**Total_Ct_Chng_Q4_Q1 :** Change in Transaction Count (Q4 over Q1)\n",
    "\n",
    "**Avg_Utilization_Ratio :** Average Card Utilization Ratio"
   ]
  },
  {
   "cell_type": "code",
   "execution_count": 3,
   "metadata": {
    "collapsed": false,
    "pycharm": {
     "name": "#%%\n"
    }
   },
   "outputs": [],
   "source": [
    "credit_card_customers = (pd.read_csv(r\"C:\\Users\\User\\Desktop\\pd_explain_test\\pd-explain\\Examples\\Datasets\\bank_churners_user_study.csv\"))"
   ]
  },
  {
   "cell_type": "code",
   "execution_count": 4,
   "metadata": {},
   "outputs": [
    {
     "data": {
      "text/plain": [
       "pd_explain.explainable_data_frame.ExpDataFrame"
      ]
     },
     "execution_count": 4,
     "metadata": {},
     "output_type": "execute_result"
    }
   ],
   "source": [
    "type(credit_card_customers)"
   ]
  },
  {
   "cell_type": "code",
   "execution_count": 5,
   "metadata": {
    "collapsed": false,
    "pycharm": {
     "name": "#%%\n"
    }
   },
   "outputs": [
    {
     "data": {
      "text/html": [
       "<div>\n",
       "<style scoped>\n",
       "    .dataframe tbody tr th:only-of-type {\n",
       "        vertical-align: middle;\n",
       "    }\n",
       "\n",
       "    .dataframe tbody tr th {\n",
       "        vertical-align: top;\n",
       "    }\n",
       "\n",
       "    .dataframe thead th {\n",
       "        text-align: right;\n",
       "    }\n",
       "</style>\n",
       "<table border=\"1\" class=\"dataframe\">\n",
       "  <thead>\n",
       "    <tr style=\"text-align: right;\">\n",
       "      <th></th>\n",
       "      <th>CLIENTNUM</th>\n",
       "      <th>Attrition_Flag</th>\n",
       "      <th>Customer_Age</th>\n",
       "      <th>Gender</th>\n",
       "      <th>Dependent_count</th>\n",
       "      <th>Education_Level</th>\n",
       "      <th>Marital_Status</th>\n",
       "      <th>Income_Category</th>\n",
       "      <th>Card_Category</th>\n",
       "      <th>Months_on_book</th>\n",
       "      <th>...</th>\n",
       "      <th>Months_Inactive_Count_Last_Year</th>\n",
       "      <th>Contacts_Count_Last_Year</th>\n",
       "      <th>Credit_Limit</th>\n",
       "      <th>Credit_Used</th>\n",
       "      <th>Credit_Open_To_Buy</th>\n",
       "      <th>Total_Amount_Change_Q4_vs_Q1</th>\n",
       "      <th>Total_Transitions_Amount</th>\n",
       "      <th>Total_Transitions_Count</th>\n",
       "      <th>Total_Count_Change_Q4_vs_Q1</th>\n",
       "      <th>Credit_Avg_Utilization_Ratio</th>\n",
       "    </tr>\n",
       "  </thead>\n",
       "  <tbody>\n",
       "    <tr>\n",
       "      <th>0</th>\n",
       "      <td>768805383</td>\n",
       "      <td>Existing Customer</td>\n",
       "      <td>45</td>\n",
       "      <td>M</td>\n",
       "      <td>3</td>\n",
       "      <td>High School</td>\n",
       "      <td>Married</td>\n",
       "      <td>$60K - $80K</td>\n",
       "      <td>Blue</td>\n",
       "      <td>39</td>\n",
       "      <td>...</td>\n",
       "      <td>1</td>\n",
       "      <td>3</td>\n",
       "      <td>12691.0</td>\n",
       "      <td>777</td>\n",
       "      <td>11914.0</td>\n",
       "      <td>1.335</td>\n",
       "      <td>1144</td>\n",
       "      <td>42</td>\n",
       "      <td>1.625</td>\n",
       "      <td>0.061</td>\n",
       "    </tr>\n",
       "    <tr>\n",
       "      <th>1</th>\n",
       "      <td>818770008</td>\n",
       "      <td>Existing Customer</td>\n",
       "      <td>49</td>\n",
       "      <td>F</td>\n",
       "      <td>5</td>\n",
       "      <td>Graduate</td>\n",
       "      <td>Single</td>\n",
       "      <td>Less than $40K</td>\n",
       "      <td>Blue</td>\n",
       "      <td>44</td>\n",
       "      <td>...</td>\n",
       "      <td>1</td>\n",
       "      <td>2</td>\n",
       "      <td>8256.0</td>\n",
       "      <td>864</td>\n",
       "      <td>7392.0</td>\n",
       "      <td>1.541</td>\n",
       "      <td>1291</td>\n",
       "      <td>33</td>\n",
       "      <td>3.714</td>\n",
       "      <td>0.105</td>\n",
       "    </tr>\n",
       "    <tr>\n",
       "      <th>2</th>\n",
       "      <td>713982108</td>\n",
       "      <td>Existing Customer</td>\n",
       "      <td>51</td>\n",
       "      <td>M</td>\n",
       "      <td>3</td>\n",
       "      <td>Graduate</td>\n",
       "      <td>Married</td>\n",
       "      <td>$80K - $120K</td>\n",
       "      <td>Blue</td>\n",
       "      <td>36</td>\n",
       "      <td>...</td>\n",
       "      <td>1</td>\n",
       "      <td>0</td>\n",
       "      <td>3418.0</td>\n",
       "      <td>0</td>\n",
       "      <td>3418.0</td>\n",
       "      <td>2.594</td>\n",
       "      <td>1887</td>\n",
       "      <td>20</td>\n",
       "      <td>2.333</td>\n",
       "      <td>0.000</td>\n",
       "    </tr>\n",
       "    <tr>\n",
       "      <th>3</th>\n",
       "      <td>769911858</td>\n",
       "      <td>Existing Customer</td>\n",
       "      <td>40</td>\n",
       "      <td>F</td>\n",
       "      <td>4</td>\n",
       "      <td>High School</td>\n",
       "      <td>Unknown</td>\n",
       "      <td>Less than $40K</td>\n",
       "      <td>Blue</td>\n",
       "      <td>34</td>\n",
       "      <td>...</td>\n",
       "      <td>4</td>\n",
       "      <td>1</td>\n",
       "      <td>3313.0</td>\n",
       "      <td>2517</td>\n",
       "      <td>796.0</td>\n",
       "      <td>1.405</td>\n",
       "      <td>1171</td>\n",
       "      <td>20</td>\n",
       "      <td>2.333</td>\n",
       "      <td>0.760</td>\n",
       "    </tr>\n",
       "    <tr>\n",
       "      <th>4</th>\n",
       "      <td>709106358</td>\n",
       "      <td>Existing Customer</td>\n",
       "      <td>40</td>\n",
       "      <td>M</td>\n",
       "      <td>3</td>\n",
       "      <td>Uneducated</td>\n",
       "      <td>Married</td>\n",
       "      <td>$60K - $80K</td>\n",
       "      <td>Blue</td>\n",
       "      <td>21</td>\n",
       "      <td>...</td>\n",
       "      <td>1</td>\n",
       "      <td>0</td>\n",
       "      <td>4716.0</td>\n",
       "      <td>0</td>\n",
       "      <td>4716.0</td>\n",
       "      <td>2.175</td>\n",
       "      <td>816</td>\n",
       "      <td>28</td>\n",
       "      <td>2.500</td>\n",
       "      <td>0.000</td>\n",
       "    </tr>\n",
       "    <tr>\n",
       "      <th>...</th>\n",
       "      <td>...</td>\n",
       "      <td>...</td>\n",
       "      <td>...</td>\n",
       "      <td>...</td>\n",
       "      <td>...</td>\n",
       "      <td>...</td>\n",
       "      <td>...</td>\n",
       "      <td>...</td>\n",
       "      <td>...</td>\n",
       "      <td>...</td>\n",
       "      <td>...</td>\n",
       "      <td>...</td>\n",
       "      <td>...</td>\n",
       "      <td>...</td>\n",
       "      <td>...</td>\n",
       "      <td>...</td>\n",
       "      <td>...</td>\n",
       "      <td>...</td>\n",
       "      <td>...</td>\n",
       "      <td>...</td>\n",
       "      <td>...</td>\n",
       "    </tr>\n",
       "    <tr>\n",
       "      <th>10122</th>\n",
       "      <td>772366833</td>\n",
       "      <td>Existing Customer</td>\n",
       "      <td>50</td>\n",
       "      <td>M</td>\n",
       "      <td>2</td>\n",
       "      <td>Graduate</td>\n",
       "      <td>Single</td>\n",
       "      <td>$40K - $60K</td>\n",
       "      <td>Blue</td>\n",
       "      <td>40</td>\n",
       "      <td>...</td>\n",
       "      <td>2</td>\n",
       "      <td>3</td>\n",
       "      <td>4003.0</td>\n",
       "      <td>1851</td>\n",
       "      <td>2152.0</td>\n",
       "      <td>0.703</td>\n",
       "      <td>15476</td>\n",
       "      <td>117</td>\n",
       "      <td>0.857</td>\n",
       "      <td>0.462</td>\n",
       "    </tr>\n",
       "    <tr>\n",
       "      <th>10123</th>\n",
       "      <td>710638233</td>\n",
       "      <td>Attrited Customer</td>\n",
       "      <td>41</td>\n",
       "      <td>M</td>\n",
       "      <td>2</td>\n",
       "      <td>Unknown</td>\n",
       "      <td>Divorced</td>\n",
       "      <td>$40K - $60K</td>\n",
       "      <td>Blue</td>\n",
       "      <td>25</td>\n",
       "      <td>...</td>\n",
       "      <td>2</td>\n",
       "      <td>3</td>\n",
       "      <td>4277.0</td>\n",
       "      <td>2186</td>\n",
       "      <td>2091.0</td>\n",
       "      <td>0.804</td>\n",
       "      <td>8764</td>\n",
       "      <td>69</td>\n",
       "      <td>0.683</td>\n",
       "      <td>0.511</td>\n",
       "    </tr>\n",
       "    <tr>\n",
       "      <th>10124</th>\n",
       "      <td>716506083</td>\n",
       "      <td>Attrited Customer</td>\n",
       "      <td>44</td>\n",
       "      <td>F</td>\n",
       "      <td>1</td>\n",
       "      <td>High School</td>\n",
       "      <td>Married</td>\n",
       "      <td>Less than $40K</td>\n",
       "      <td>Blue</td>\n",
       "      <td>36</td>\n",
       "      <td>...</td>\n",
       "      <td>3</td>\n",
       "      <td>4</td>\n",
       "      <td>5409.0</td>\n",
       "      <td>0</td>\n",
       "      <td>5409.0</td>\n",
       "      <td>0.819</td>\n",
       "      <td>10291</td>\n",
       "      <td>60</td>\n",
       "      <td>0.818</td>\n",
       "      <td>0.000</td>\n",
       "    </tr>\n",
       "    <tr>\n",
       "      <th>10125</th>\n",
       "      <td>717406983</td>\n",
       "      <td>Attrited Customer</td>\n",
       "      <td>30</td>\n",
       "      <td>M</td>\n",
       "      <td>2</td>\n",
       "      <td>Graduate</td>\n",
       "      <td>Unknown</td>\n",
       "      <td>$40K - $60K</td>\n",
       "      <td>Blue</td>\n",
       "      <td>36</td>\n",
       "      <td>...</td>\n",
       "      <td>3</td>\n",
       "      <td>3</td>\n",
       "      <td>5281.0</td>\n",
       "      <td>0</td>\n",
       "      <td>5281.0</td>\n",
       "      <td>0.535</td>\n",
       "      <td>8395</td>\n",
       "      <td>62</td>\n",
       "      <td>0.722</td>\n",
       "      <td>0.000</td>\n",
       "    </tr>\n",
       "    <tr>\n",
       "      <th>10126</th>\n",
       "      <td>714337233</td>\n",
       "      <td>Attrited Customer</td>\n",
       "      <td>43</td>\n",
       "      <td>F</td>\n",
       "      <td>2</td>\n",
       "      <td>Graduate</td>\n",
       "      <td>Married</td>\n",
       "      <td>Less than $40K</td>\n",
       "      <td>Silver</td>\n",
       "      <td>25</td>\n",
       "      <td>...</td>\n",
       "      <td>2</td>\n",
       "      <td>4</td>\n",
       "      <td>10388.0</td>\n",
       "      <td>1961</td>\n",
       "      <td>8427.0</td>\n",
       "      <td>0.703</td>\n",
       "      <td>10294</td>\n",
       "      <td>61</td>\n",
       "      <td>0.649</td>\n",
       "      <td>0.189</td>\n",
       "    </tr>\n",
       "  </tbody>\n",
       "</table>\n",
       "<p>10127 rows × 21 columns</p>\n",
       "</div>"
      ],
      "text/plain": [
       "       CLIENTNUM     Attrition_Flag  Customer_Age Gender  Dependent_count  \\\n",
       "0      768805383  Existing Customer            45      M                3   \n",
       "1      818770008  Existing Customer            49      F                5   \n",
       "2      713982108  Existing Customer            51      M                3   \n",
       "3      769911858  Existing Customer            40      F                4   \n",
       "4      709106358  Existing Customer            40      M                3   \n",
       "...          ...                ...           ...    ...              ...   \n",
       "10122  772366833  Existing Customer            50      M                2   \n",
       "10123  710638233  Attrited Customer            41      M                2   \n",
       "10124  716506083  Attrited Customer            44      F                1   \n",
       "10125  717406983  Attrited Customer            30      M                2   \n",
       "10126  714337233  Attrited Customer            43      F                2   \n",
       "\n",
       "      Education_Level Marital_Status Income_Category Card_Category  \\\n",
       "0         High School        Married     $60K - $80K          Blue   \n",
       "1            Graduate         Single  Less than $40K          Blue   \n",
       "2            Graduate        Married    $80K - $120K          Blue   \n",
       "3         High School        Unknown  Less than $40K          Blue   \n",
       "4          Uneducated        Married     $60K - $80K          Blue   \n",
       "...               ...            ...             ...           ...   \n",
       "10122        Graduate         Single     $40K - $60K          Blue   \n",
       "10123         Unknown       Divorced     $40K - $60K          Blue   \n",
       "10124     High School        Married  Less than $40K          Blue   \n",
       "10125        Graduate        Unknown     $40K - $60K          Blue   \n",
       "10126        Graduate        Married  Less than $40K        Silver   \n",
       "\n",
       "       Months_on_book  ...  Months_Inactive_Count_Last_Year  \\\n",
       "0                  39  ...                                1   \n",
       "1                  44  ...                                1   \n",
       "2                  36  ...                                1   \n",
       "3                  34  ...                                4   \n",
       "4                  21  ...                                1   \n",
       "...               ...  ...                              ...   \n",
       "10122              40  ...                                2   \n",
       "10123              25  ...                                2   \n",
       "10124              36  ...                                3   \n",
       "10125              36  ...                                3   \n",
       "10126              25  ...                                2   \n",
       "\n",
       "       Contacts_Count_Last_Year  Credit_Limit  Credit_Used  \\\n",
       "0                             3       12691.0          777   \n",
       "1                             2        8256.0          864   \n",
       "2                             0        3418.0            0   \n",
       "3                             1        3313.0         2517   \n",
       "4                             0        4716.0            0   \n",
       "...                         ...           ...          ...   \n",
       "10122                         3        4003.0         1851   \n",
       "10123                         3        4277.0         2186   \n",
       "10124                         4        5409.0            0   \n",
       "10125                         3        5281.0            0   \n",
       "10126                         4       10388.0         1961   \n",
       "\n",
       "       Credit_Open_To_Buy  Total_Amount_Change_Q4_vs_Q1  \\\n",
       "0                 11914.0                         1.335   \n",
       "1                  7392.0                         1.541   \n",
       "2                  3418.0                         2.594   \n",
       "3                   796.0                         1.405   \n",
       "4                  4716.0                         2.175   \n",
       "...                   ...                           ...   \n",
       "10122              2152.0                         0.703   \n",
       "10123              2091.0                         0.804   \n",
       "10124              5409.0                         0.819   \n",
       "10125              5281.0                         0.535   \n",
       "10126              8427.0                         0.703   \n",
       "\n",
       "       Total_Transitions_Amount  Total_Transitions_Count  \\\n",
       "0                          1144                       42   \n",
       "1                          1291                       33   \n",
       "2                          1887                       20   \n",
       "3                          1171                       20   \n",
       "4                           816                       28   \n",
       "...                         ...                      ...   \n",
       "10122                     15476                      117   \n",
       "10123                      8764                       69   \n",
       "10124                     10291                       60   \n",
       "10125                      8395                       62   \n",
       "10126                     10294                       61   \n",
       "\n",
       "       Total_Count_Change_Q4_vs_Q1  Credit_Avg_Utilization_Ratio  \n",
       "0                            1.625                         0.061  \n",
       "1                            3.714                         0.105  \n",
       "2                            2.333                         0.000  \n",
       "3                            2.333                         0.760  \n",
       "4                            2.500                         0.000  \n",
       "...                            ...                           ...  \n",
       "10122                        0.857                         0.462  \n",
       "10123                        0.683                         0.511  \n",
       "10124                        0.818                         0.000  \n",
       "10125                        0.722                         0.000  \n",
       "10126                        0.649                         0.189  \n",
       "\n",
       "[10127 rows x 21 columns]"
      ]
     },
     "execution_count": 5,
     "metadata": {},
     "output_type": "execute_result"
    }
   ],
   "source": [
    "credit_card_customers"
   ]
  },
  {
   "cell_type": "markdown",
   "metadata": {
    "collapsed": false,
    "pycharm": {
     "name": "#%% md\n"
    }
   },
   "source": [
    "# OPERATION #1"
   ]
  },
  {
   "cell_type": "code",
   "execution_count": 6,
   "metadata": {
    "collapsed": false,
    "pycharm": {
     "name": "#%%\n"
    }
   },
   "outputs": [
    {
     "name": "stderr",
     "output_type": "stream",
     "text": [
      "c:\\Users\\User\\AppData\\Local\\Programs\\Python\\Python312\\Lib\\site-packages\\fedex_generator\\Operations\\Filter.py:52: SettingWithCopyWarning: \n",
      "A value is trying to be set on a copy of a slice from a DataFrame.\n",
      "Try using .loc[row_indexer,col_indexer] = value instead\n",
      "\n",
      "See the caveats in the documentation: https://pandas.pydata.org/pandas-docs/stable/user_guide/indexing.html#returning-a-view-versus-a-copy\n",
      "  numeric_df[column] = numeric_df[column].map(items_map)\n",
      "c:\\Users\\User\\AppData\\Local\\Programs\\Python\\Python312\\Lib\\site-packages\\fedex_generator\\Operations\\Filter.py:52: SettingWithCopyWarning: \n",
      "A value is trying to be set on a copy of a slice from a DataFrame.\n",
      "Try using .loc[row_indexer,col_indexer] = value instead\n",
      "\n",
      "See the caveats in the documentation: https://pandas.pydata.org/pandas-docs/stable/user_guide/indexing.html#returning-a-view-versus-a-copy\n",
      "  numeric_df[column] = numeric_df[column].map(items_map)\n",
      "c:\\Users\\User\\AppData\\Local\\Programs\\Python\\Python312\\Lib\\site-packages\\fedex_generator\\Operations\\Filter.py:52: SettingWithCopyWarning: \n",
      "A value is trying to be set on a copy of a slice from a DataFrame.\n",
      "Try using .loc[row_indexer,col_indexer] = value instead\n",
      "\n",
      "See the caveats in the documentation: https://pandas.pydata.org/pandas-docs/stable/user_guide/indexing.html#returning-a-view-versus-a-copy\n",
      "  numeric_df[column] = numeric_df[column].map(items_map)\n",
      "c:\\Users\\User\\AppData\\Local\\Programs\\Python\\Python312\\Lib\\site-packages\\fedex_generator\\Operations\\Filter.py:52: SettingWithCopyWarning: \n",
      "A value is trying to be set on a copy of a slice from a DataFrame.\n",
      "Try using .loc[row_indexer,col_indexer] = value instead\n",
      "\n",
      "See the caveats in the documentation: https://pandas.pydata.org/pandas-docs/stable/user_guide/indexing.html#returning-a-view-versus-a-copy\n",
      "  numeric_df[column] = numeric_df[column].map(items_map)\n",
      "c:\\Users\\User\\AppData\\Local\\Programs\\Python\\Python312\\Lib\\site-packages\\fedex_generator\\Operations\\Filter.py:52: SettingWithCopyWarning: \n",
      "A value is trying to be set on a copy of a slice from a DataFrame.\n",
      "Try using .loc[row_indexer,col_indexer] = value instead\n",
      "\n",
      "See the caveats in the documentation: https://pandas.pydata.org/pandas-docs/stable/user_guide/indexing.html#returning-a-view-versus-a-copy\n",
      "  numeric_df[column] = numeric_df[column].map(items_map)\n",
      "c:\\Users\\User\\AppData\\Local\\Programs\\Python\\Python312\\Lib\\site-packages\\fedex_generator\\Operations\\Filter.py:52: SettingWithCopyWarning: \n",
      "A value is trying to be set on a copy of a slice from a DataFrame.\n",
      "Try using .loc[row_indexer,col_indexer] = value instead\n",
      "\n",
      "See the caveats in the documentation: https://pandas.pydata.org/pandas-docs/stable/user_guide/indexing.html#returning-a-view-versus-a-copy\n",
      "  numeric_df[column] = numeric_df[column].map(items_map)\n"
     ]
    },
    {
     "data": {
      "image/png": "[encoded data removed]",
      "text/plain": [
       "<Figure size 700x700 with 1 Axes>"
      ]
     },
     "metadata": {},
     "output_type": "display_data"
    }
   ],
   "source": [
    "# filter_results = credit_card_customers[credit_card_customers[\"Customer_Age\"] > 45]\n",
    "filter_results = credit_card_customers.where(credit_card_customers[\"Customer_Age\"] > 45)\n",
    "explains = filter_results.explain(top_k=1, show_scores=True)"
   ]
  },
  {
   "cell_type": "code",
   "execution_count": 55,
   "metadata": {},
   "outputs": [
    {
     "data": {
      "text/html": [
       "<div>\n",
       "<style scoped>\n",
       "    .dataframe tbody tr th:only-of-type {\n",
       "        vertical-align: middle;\n",
       "    }\n",
       "\n",
       "    .dataframe tbody tr th {\n",
       "        vertical-align: top;\n",
       "    }\n",
       "\n",
       "    .dataframe thead th {\n",
       "        text-align: right;\n",
       "    }\n",
       "</style>\n",
       "<table border=\"1\" class=\"dataframe\">\n",
       "  <thead>\n",
       "    <tr style=\"text-align: right;\">\n",
       "      <th></th>\n",
       "      <th>CLIENTNUM</th>\n",
       "      <th>Attrition_Flag</th>\n",
       "      <th>Customer_Age</th>\n",
       "      <th>Gender</th>\n",
       "      <th>Dependent_count</th>\n",
       "      <th>Education_Level</th>\n",
       "      <th>Marital_Status</th>\n",
       "      <th>Income_Category</th>\n",
       "      <th>Card_Category</th>\n",
       "      <th>Months_on_book</th>\n",
       "      <th>...</th>\n",
       "      <th>Months_Inactive_Count_Last_Year</th>\n",
       "      <th>Contacts_Count_Last_Year</th>\n",
       "      <th>Credit_Limit</th>\n",
       "      <th>Credit_Used</th>\n",
       "      <th>Credit_Open_To_Buy</th>\n",
       "      <th>Total_Amount_Change_Q4_vs_Q1</th>\n",
       "      <th>Total_Transitions_Amount</th>\n",
       "      <th>Total_Transitions_Count</th>\n",
       "      <th>Total_Count_Change_Q4_vs_Q1</th>\n",
       "      <th>Credit_Avg_Utilization_Ratio</th>\n",
       "    </tr>\n",
       "  </thead>\n",
       "  <tbody>\n",
       "    <tr>\n",
       "      <th>1</th>\n",
       "      <td>818770008</td>\n",
       "      <td>Existing Customer</td>\n",
       "      <td>49</td>\n",
       "      <td>F</td>\n",
       "      <td>5</td>\n",
       "      <td>Graduate</td>\n",
       "      <td>Single</td>\n",
       "      <td>Less than $40K</td>\n",
       "      <td>Blue</td>\n",
       "      <td>44</td>\n",
       "      <td>...</td>\n",
       "      <td>1</td>\n",
       "      <td>2</td>\n",
       "      <td>8256.0</td>\n",
       "      <td>864</td>\n",
       "      <td>7392.0</td>\n",
       "      <td>1.541</td>\n",
       "      <td>1291</td>\n",
       "      <td>33</td>\n",
       "      <td>3.714</td>\n",
       "      <td>0.105</td>\n",
       "    </tr>\n",
       "    <tr>\n",
       "      <th>2</th>\n",
       "      <td>713982108</td>\n",
       "      <td>Existing Customer</td>\n",
       "      <td>51</td>\n",
       "      <td>M</td>\n",
       "      <td>3</td>\n",
       "      <td>Graduate</td>\n",
       "      <td>Married</td>\n",
       "      <td>$80K - $120K</td>\n",
       "      <td>Blue</td>\n",
       "      <td>36</td>\n",
       "      <td>...</td>\n",
       "      <td>1</td>\n",
       "      <td>0</td>\n",
       "      <td>3418.0</td>\n",
       "      <td>0</td>\n",
       "      <td>3418.0</td>\n",
       "      <td>2.594</td>\n",
       "      <td>1887</td>\n",
       "      <td>20</td>\n",
       "      <td>2.333</td>\n",
       "      <td>0.000</td>\n",
       "    </tr>\n",
       "    <tr>\n",
       "      <th>6</th>\n",
       "      <td>810347208</td>\n",
       "      <td>Existing Customer</td>\n",
       "      <td>51</td>\n",
       "      <td>M</td>\n",
       "      <td>4</td>\n",
       "      <td>Unknown</td>\n",
       "      <td>Married</td>\n",
       "      <td>$120K +</td>\n",
       "      <td>Gold</td>\n",
       "      <td>46</td>\n",
       "      <td>...</td>\n",
       "      <td>1</td>\n",
       "      <td>3</td>\n",
       "      <td>34516.0</td>\n",
       "      <td>2264</td>\n",
       "      <td>32252.0</td>\n",
       "      <td>1.975</td>\n",
       "      <td>1330</td>\n",
       "      <td>31</td>\n",
       "      <td>0.722</td>\n",
       "      <td>0.066</td>\n",
       "    </tr>\n",
       "    <tr>\n",
       "      <th>9</th>\n",
       "      <td>719661558</td>\n",
       "      <td>Existing Customer</td>\n",
       "      <td>48</td>\n",
       "      <td>M</td>\n",
       "      <td>2</td>\n",
       "      <td>Graduate</td>\n",
       "      <td>Single</td>\n",
       "      <td>$80K - $120K</td>\n",
       "      <td>Blue</td>\n",
       "      <td>36</td>\n",
       "      <td>...</td>\n",
       "      <td>3</td>\n",
       "      <td>3</td>\n",
       "      <td>11656.0</td>\n",
       "      <td>1677</td>\n",
       "      <td>9979.0</td>\n",
       "      <td>1.524</td>\n",
       "      <td>1441</td>\n",
       "      <td>32</td>\n",
       "      <td>0.882</td>\n",
       "      <td>0.144</td>\n",
       "    </tr>\n",
       "    <tr>\n",
       "      <th>11</th>\n",
       "      <td>710821833</td>\n",
       "      <td>Existing Customer</td>\n",
       "      <td>65</td>\n",
       "      <td>M</td>\n",
       "      <td>1</td>\n",
       "      <td>Unknown</td>\n",
       "      <td>Married</td>\n",
       "      <td>$40K - $60K</td>\n",
       "      <td>Blue</td>\n",
       "      <td>54</td>\n",
       "      <td>...</td>\n",
       "      <td>2</td>\n",
       "      <td>3</td>\n",
       "      <td>9095.0</td>\n",
       "      <td>1587</td>\n",
       "      <td>7508.0</td>\n",
       "      <td>1.433</td>\n",
       "      <td>1314</td>\n",
       "      <td>26</td>\n",
       "      <td>1.364</td>\n",
       "      <td>0.174</td>\n",
       "    </tr>\n",
       "    <tr>\n",
       "      <th>...</th>\n",
       "      <td>...</td>\n",
       "      <td>...</td>\n",
       "      <td>...</td>\n",
       "      <td>...</td>\n",
       "      <td>...</td>\n",
       "      <td>...</td>\n",
       "      <td>...</td>\n",
       "      <td>...</td>\n",
       "      <td>...</td>\n",
       "      <td>...</td>\n",
       "      <td>...</td>\n",
       "      <td>...</td>\n",
       "      <td>...</td>\n",
       "      <td>...</td>\n",
       "      <td>...</td>\n",
       "      <td>...</td>\n",
       "      <td>...</td>\n",
       "      <td>...</td>\n",
       "      <td>...</td>\n",
       "      <td>...</td>\n",
       "      <td>...</td>\n",
       "    </tr>\n",
       "    <tr>\n",
       "      <th>10118</th>\n",
       "      <td>713755458</td>\n",
       "      <td>Attrited Customer</td>\n",
       "      <td>50</td>\n",
       "      <td>M</td>\n",
       "      <td>1</td>\n",
       "      <td>Unknown</td>\n",
       "      <td>Unknown</td>\n",
       "      <td>$80K - $120K</td>\n",
       "      <td>Blue</td>\n",
       "      <td>36</td>\n",
       "      <td>...</td>\n",
       "      <td>3</td>\n",
       "      <td>4</td>\n",
       "      <td>9959.0</td>\n",
       "      <td>952</td>\n",
       "      <td>9007.0</td>\n",
       "      <td>0.825</td>\n",
       "      <td>10310</td>\n",
       "      <td>63</td>\n",
       "      <td>1.100</td>\n",
       "      <td>0.096</td>\n",
       "    </tr>\n",
       "    <tr>\n",
       "      <th>10119</th>\n",
       "      <td>716893683</td>\n",
       "      <td>Attrited Customer</td>\n",
       "      <td>55</td>\n",
       "      <td>F</td>\n",
       "      <td>3</td>\n",
       "      <td>Uneducated</td>\n",
       "      <td>Single</td>\n",
       "      <td>Unknown</td>\n",
       "      <td>Blue</td>\n",
       "      <td>47</td>\n",
       "      <td>...</td>\n",
       "      <td>3</td>\n",
       "      <td>3</td>\n",
       "      <td>14657.0</td>\n",
       "      <td>2517</td>\n",
       "      <td>12140.0</td>\n",
       "      <td>0.166</td>\n",
       "      <td>6009</td>\n",
       "      <td>53</td>\n",
       "      <td>0.514</td>\n",
       "      <td>0.172</td>\n",
       "    </tr>\n",
       "    <tr>\n",
       "      <th>10120</th>\n",
       "      <td>710841183</td>\n",
       "      <td>Existing Customer</td>\n",
       "      <td>54</td>\n",
       "      <td>M</td>\n",
       "      <td>1</td>\n",
       "      <td>High School</td>\n",
       "      <td>Single</td>\n",
       "      <td>$60K - $80K</td>\n",
       "      <td>Blue</td>\n",
       "      <td>34</td>\n",
       "      <td>...</td>\n",
       "      <td>2</td>\n",
       "      <td>0</td>\n",
       "      <td>13940.0</td>\n",
       "      <td>2109</td>\n",
       "      <td>11831.0</td>\n",
       "      <td>0.660</td>\n",
       "      <td>15577</td>\n",
       "      <td>114</td>\n",
       "      <td>0.754</td>\n",
       "      <td>0.151</td>\n",
       "    </tr>\n",
       "    <tr>\n",
       "      <th>10121</th>\n",
       "      <td>713899383</td>\n",
       "      <td>Existing Customer</td>\n",
       "      <td>56</td>\n",
       "      <td>F</td>\n",
       "      <td>1</td>\n",
       "      <td>Graduate</td>\n",
       "      <td>Single</td>\n",
       "      <td>Less than $40K</td>\n",
       "      <td>Blue</td>\n",
       "      <td>50</td>\n",
       "      <td>...</td>\n",
       "      <td>1</td>\n",
       "      <td>4</td>\n",
       "      <td>3688.0</td>\n",
       "      <td>606</td>\n",
       "      <td>3082.0</td>\n",
       "      <td>0.570</td>\n",
       "      <td>14596</td>\n",
       "      <td>120</td>\n",
       "      <td>0.791</td>\n",
       "      <td>0.164</td>\n",
       "    </tr>\n",
       "    <tr>\n",
       "      <th>10122</th>\n",
       "      <td>772366833</td>\n",
       "      <td>Existing Customer</td>\n",
       "      <td>50</td>\n",
       "      <td>M</td>\n",
       "      <td>2</td>\n",
       "      <td>Graduate</td>\n",
       "      <td>Single</td>\n",
       "      <td>$40K - $60K</td>\n",
       "      <td>Blue</td>\n",
       "      <td>40</td>\n",
       "      <td>...</td>\n",
       "      <td>2</td>\n",
       "      <td>3</td>\n",
       "      <td>4003.0</td>\n",
       "      <td>1851</td>\n",
       "      <td>2152.0</td>\n",
       "      <td>0.703</td>\n",
       "      <td>15476</td>\n",
       "      <td>117</td>\n",
       "      <td>0.857</td>\n",
       "      <td>0.462</td>\n",
       "    </tr>\n",
       "  </tbody>\n",
       "</table>\n",
       "<p>5466 rows × 21 columns</p>\n",
       "</div>"
      ],
      "text/plain": [
       "       CLIENTNUM     Attrition_Flag  Customer_Age Gender  Dependent_count  \\\n",
       "1      818770008  Existing Customer            49      F                5   \n",
       "2      713982108  Existing Customer            51      M                3   \n",
       "6      810347208  Existing Customer            51      M                4   \n",
       "9      719661558  Existing Customer            48      M                2   \n",
       "11     710821833  Existing Customer            65      M                1   \n",
       "...          ...                ...           ...    ...              ...   \n",
       "10118  713755458  Attrited Customer            50      M                1   \n",
       "10119  716893683  Attrited Customer            55      F                3   \n",
       "10120  710841183  Existing Customer            54      M                1   \n",
       "10121  713899383  Existing Customer            56      F                1   \n",
       "10122  772366833  Existing Customer            50      M                2   \n",
       "\n",
       "      Education_Level Marital_Status Income_Category Card_Category  \\\n",
       "1            Graduate         Single  Less than $40K          Blue   \n",
       "2            Graduate        Married    $80K - $120K          Blue   \n",
       "6             Unknown        Married         $120K +          Gold   \n",
       "9            Graduate         Single    $80K - $120K          Blue   \n",
       "11            Unknown        Married     $40K - $60K          Blue   \n",
       "...               ...            ...             ...           ...   \n",
       "10118         Unknown        Unknown    $80K - $120K          Blue   \n",
       "10119      Uneducated         Single         Unknown          Blue   \n",
       "10120     High School         Single     $60K - $80K          Blue   \n",
       "10121        Graduate         Single  Less than $40K          Blue   \n",
       "10122        Graduate         Single     $40K - $60K          Blue   \n",
       "\n",
       "       Months_on_book  ...  Months_Inactive_Count_Last_Year  \\\n",
       "1                  44  ...                                1   \n",
       "2                  36  ...                                1   \n",
       "6                  46  ...                                1   \n",
       "9                  36  ...                                3   \n",
       "11                 54  ...                                2   \n",
       "...               ...  ...                              ...   \n",
       "10118              36  ...                                3   \n",
       "10119              47  ...                                3   \n",
       "10120              34  ...                                2   \n",
       "10121              50  ...                                1   \n",
       "10122              40  ...                                2   \n",
       "\n",
       "       Contacts_Count_Last_Year  Credit_Limit  Credit_Used  \\\n",
       "1                             2        8256.0          864   \n",
       "2                             0        3418.0            0   \n",
       "6                             3       34516.0         2264   \n",
       "9                             3       11656.0         1677   \n",
       "11                            3        9095.0         1587   \n",
       "...                         ...           ...          ...   \n",
       "10118                         4        9959.0          952   \n",
       "10119                         3       14657.0         2517   \n",
       "10120                         0       13940.0         2109   \n",
       "10121                         4        3688.0          606   \n",
       "10122                         3        4003.0         1851   \n",
       "\n",
       "       Credit_Open_To_Buy  Total_Amount_Change_Q4_vs_Q1  \\\n",
       "1                  7392.0                         1.541   \n",
       "2                  3418.0                         2.594   \n",
       "6                 32252.0                         1.975   \n",
       "9                  9979.0                         1.524   \n",
       "11                 7508.0                         1.433   \n",
       "...                   ...                           ...   \n",
       "10118              9007.0                         0.825   \n",
       "10119             12140.0                         0.166   \n",
       "10120             11831.0                         0.660   \n",
       "10121              3082.0                         0.570   \n",
       "10122              2152.0                         0.703   \n",
       "\n",
       "       Total_Transitions_Amount  Total_Transitions_Count  \\\n",
       "1                          1291                       33   \n",
       "2                          1887                       20   \n",
       "6                          1330                       31   \n",
       "9                          1441                       32   \n",
       "11                         1314                       26   \n",
       "...                         ...                      ...   \n",
       "10118                     10310                       63   \n",
       "10119                      6009                       53   \n",
       "10120                     15577                      114   \n",
       "10121                     14596                      120   \n",
       "10122                     15476                      117   \n",
       "\n",
       "       Total_Count_Change_Q4_vs_Q1  Credit_Avg_Utilization_Ratio  \n",
       "1                            3.714                         0.105  \n",
       "2                            2.333                         0.000  \n",
       "6                            0.722                         0.066  \n",
       "9                            0.882                         0.144  \n",
       "11                           1.364                         0.174  \n",
       "...                            ...                           ...  \n",
       "10118                        1.100                         0.096  \n",
       "10119                        0.514                         0.172  \n",
       "10120                        0.754                         0.151  \n",
       "10121                        0.791                         0.164  \n",
       "10122                        0.857                         0.462  \n",
       "\n",
       "[5466 rows x 21 columns]"
      ]
     },
     "execution_count": 55,
     "metadata": {},
     "output_type": "execute_result"
    }
   ],
   "source": [
    "filter_results"
   ]
  },
  {
   "cell_type": "markdown",
   "metadata": {
    "collapsed": false,
    "pycharm": {
     "name": "#%% md\n"
    }
   },
   "source": [
    "# OPERATION #2"
   ]
  },
  {
   "cell_type": "code",
   "execution_count": 5,
   "metadata": {
    "collapsed": false,
    "pycharm": {
     "name": "#%%\n"
    }
   },
   "outputs": [],
   "source": [
    "loyal = credit_card_customers[credit_card_customers.Attrition_Flag == \"Existing Customer\"]"
   ]
  },
  {
   "cell_type": "code",
   "execution_count": 6,
   "metadata": {
    "collapsed": false,
    "pycharm": {
     "name": "#%%\n"
    }
   },
   "outputs": [],
   "source": [
    "churn = credit_card_customers[credit_card_customers.Attrition_Flag != \"Existing Customer\"]"
   ]
  },
  {
   "cell_type": "code",
   "execution_count": 7,
   "metadata": {
    "collapsed": false,
    "pycharm": {
     "name": "#%%\n"
    }
   },
   "outputs": [
    {
     "data": {
      "text/html": [
       "<div>\n",
       "<style scoped>\n",
       "    .dataframe tbody tr th:only-of-type {\n",
       "        vertical-align: middle;\n",
       "    }\n",
       "\n",
       "    .dataframe tbody tr th {\n",
       "        vertical-align: top;\n",
       "    }\n",
       "\n",
       "    .dataframe thead th {\n",
       "        text-align: right;\n",
       "    }\n",
       "</style>\n",
       "<table border=\"1\" class=\"dataframe\">\n",
       "  <thead>\n",
       "    <tr style=\"text-align: right;\">\n",
       "      <th></th>\n",
       "      <th>CLIENTNUM</th>\n",
       "      <th>Attrition_Flag</th>\n",
       "      <th>Customer_Age</th>\n",
       "      <th>Gender</th>\n",
       "      <th>Dependent_count</th>\n",
       "      <th>Education_Level</th>\n",
       "      <th>Marital_Status</th>\n",
       "      <th>Income_Category</th>\n",
       "      <th>Card_Category</th>\n",
       "      <th>Months_on_book</th>\n",
       "      <th>...</th>\n",
       "      <th>Months_Inactive_Count_Last_Year</th>\n",
       "      <th>Contacts_Count_Last_Year</th>\n",
       "      <th>Credit_Limit</th>\n",
       "      <th>Credit_Used</th>\n",
       "      <th>Credit_Open_To_Buy</th>\n",
       "      <th>Total_Amount_Change_Q4_vs_Q1</th>\n",
       "      <th>Total_Transitions_Amount</th>\n",
       "      <th>Total_Transitions_Count</th>\n",
       "      <th>Total_Count_Change_Q4_vs_Q1</th>\n",
       "      <th>Credit_Avg_Utilization_Ratio</th>\n",
       "    </tr>\n",
       "  </thead>\n",
       "  <tbody>\n",
       "    <tr>\n",
       "      <th>51</th>\n",
       "      <td>779471883</td>\n",
       "      <td>Attrited Customer</td>\n",
       "      <td>54</td>\n",
       "      <td>F</td>\n",
       "      <td>1</td>\n",
       "      <td>Graduate</td>\n",
       "      <td>Married</td>\n",
       "      <td>Less than $40K</td>\n",
       "      <td>Blue</td>\n",
       "      <td>40</td>\n",
       "      <td>...</td>\n",
       "      <td>3</td>\n",
       "      <td>1</td>\n",
       "      <td>1438.3</td>\n",
       "      <td>808</td>\n",
       "      <td>630.3</td>\n",
       "      <td>0.997</td>\n",
       "      <td>705</td>\n",
       "      <td>19</td>\n",
       "      <td>0.900</td>\n",
       "      <td>0.562</td>\n",
       "    </tr>\n",
       "    <tr>\n",
       "      <th>140</th>\n",
       "      <td>789322833</td>\n",
       "      <td>Attrited Customer</td>\n",
       "      <td>48</td>\n",
       "      <td>F</td>\n",
       "      <td>5</td>\n",
       "      <td>High School</td>\n",
       "      <td>Married</td>\n",
       "      <td>Less than $40K</td>\n",
       "      <td>Blue</td>\n",
       "      <td>38</td>\n",
       "      <td>...</td>\n",
       "      <td>3</td>\n",
       "      <td>3</td>\n",
       "      <td>8025.0</td>\n",
       "      <td>0</td>\n",
       "      <td>8025.0</td>\n",
       "      <td>0.654</td>\n",
       "      <td>673</td>\n",
       "      <td>18</td>\n",
       "      <td>0.800</td>\n",
       "      <td>0.000</td>\n",
       "    </tr>\n",
       "    <tr>\n",
       "      <th>144</th>\n",
       "      <td>767712558</td>\n",
       "      <td>Attrited Customer</td>\n",
       "      <td>59</td>\n",
       "      <td>M</td>\n",
       "      <td>1</td>\n",
       "      <td>College</td>\n",
       "      <td>Single</td>\n",
       "      <td>$60K - $80K</td>\n",
       "      <td>Blue</td>\n",
       "      <td>53</td>\n",
       "      <td>...</td>\n",
       "      <td>3</td>\n",
       "      <td>3</td>\n",
       "      <td>14979.0</td>\n",
       "      <td>0</td>\n",
       "      <td>14979.0</td>\n",
       "      <td>0.710</td>\n",
       "      <td>530</td>\n",
       "      <td>10</td>\n",
       "      <td>1.000</td>\n",
       "      <td>0.000</td>\n",
       "    </tr>\n",
       "    <tr>\n",
       "      <th>276</th>\n",
       "      <td>719211558</td>\n",
       "      <td>Attrited Customer</td>\n",
       "      <td>45</td>\n",
       "      <td>M</td>\n",
       "      <td>2</td>\n",
       "      <td>Graduate</td>\n",
       "      <td>Single</td>\n",
       "      <td>$60K - $80K</td>\n",
       "      <td>Blue</td>\n",
       "      <td>36</td>\n",
       "      <td>...</td>\n",
       "      <td>1</td>\n",
       "      <td>2</td>\n",
       "      <td>3401.0</td>\n",
       "      <td>0</td>\n",
       "      <td>3401.0</td>\n",
       "      <td>0.898</td>\n",
       "      <td>744</td>\n",
       "      <td>18</td>\n",
       "      <td>1.000</td>\n",
       "      <td>0.000</td>\n",
       "    </tr>\n",
       "    <tr>\n",
       "      <th>286</th>\n",
       "      <td>720272958</td>\n",
       "      <td>Attrited Customer</td>\n",
       "      <td>48</td>\n",
       "      <td>M</td>\n",
       "      <td>2</td>\n",
       "      <td>High School</td>\n",
       "      <td>Married</td>\n",
       "      <td>$120K +</td>\n",
       "      <td>Blue</td>\n",
       "      <td>36</td>\n",
       "      <td>...</td>\n",
       "      <td>3</td>\n",
       "      <td>3</td>\n",
       "      <td>27126.0</td>\n",
       "      <td>0</td>\n",
       "      <td>27126.0</td>\n",
       "      <td>0.953</td>\n",
       "      <td>1000</td>\n",
       "      <td>25</td>\n",
       "      <td>0.786</td>\n",
       "      <td>0.000</td>\n",
       "    </tr>\n",
       "    <tr>\n",
       "      <th>...</th>\n",
       "      <td>...</td>\n",
       "      <td>...</td>\n",
       "      <td>...</td>\n",
       "      <td>...</td>\n",
       "      <td>...</td>\n",
       "      <td>...</td>\n",
       "      <td>...</td>\n",
       "      <td>...</td>\n",
       "      <td>...</td>\n",
       "      <td>...</td>\n",
       "      <td>...</td>\n",
       "      <td>...</td>\n",
       "      <td>...</td>\n",
       "      <td>...</td>\n",
       "      <td>...</td>\n",
       "      <td>...</td>\n",
       "      <td>...</td>\n",
       "      <td>...</td>\n",
       "      <td>...</td>\n",
       "      <td>...</td>\n",
       "      <td>...</td>\n",
       "    </tr>\n",
       "    <tr>\n",
       "      <th>10105</th>\n",
       "      <td>709646433</td>\n",
       "      <td>Attrited Customer</td>\n",
       "      <td>59</td>\n",
       "      <td>F</td>\n",
       "      <td>1</td>\n",
       "      <td>High School</td>\n",
       "      <td>Married</td>\n",
       "      <td>Less than $40K</td>\n",
       "      <td>Blue</td>\n",
       "      <td>50</td>\n",
       "      <td>...</td>\n",
       "      <td>4</td>\n",
       "      <td>3</td>\n",
       "      <td>5043.0</td>\n",
       "      <td>743</td>\n",
       "      <td>4300.0</td>\n",
       "      <td>0.805</td>\n",
       "      <td>10170</td>\n",
       "      <td>66</td>\n",
       "      <td>0.784</td>\n",
       "      <td>0.147</td>\n",
       "    </tr>\n",
       "    <tr>\n",
       "      <th>10107</th>\n",
       "      <td>713924283</td>\n",
       "      <td>Attrited Customer</td>\n",
       "      <td>61</td>\n",
       "      <td>M</td>\n",
       "      <td>0</td>\n",
       "      <td>Graduate</td>\n",
       "      <td>Single</td>\n",
       "      <td>$60K - $80K</td>\n",
       "      <td>Blue</td>\n",
       "      <td>54</td>\n",
       "      <td>...</td>\n",
       "      <td>1</td>\n",
       "      <td>4</td>\n",
       "      <td>11859.0</td>\n",
       "      <td>1644</td>\n",
       "      <td>10215.0</td>\n",
       "      <td>0.866</td>\n",
       "      <td>8930</td>\n",
       "      <td>79</td>\n",
       "      <td>0.837</td>\n",
       "      <td>0.139</td>\n",
       "    </tr>\n",
       "    <tr>\n",
       "      <th>10113</th>\n",
       "      <td>713733633</td>\n",
       "      <td>Attrited Customer</td>\n",
       "      <td>27</td>\n",
       "      <td>M</td>\n",
       "      <td>0</td>\n",
       "      <td>High School</td>\n",
       "      <td>Divorced</td>\n",
       "      <td>$60K - $80K</td>\n",
       "      <td>Blue</td>\n",
       "      <td>36</td>\n",
       "      <td>...</td>\n",
       "      <td>3</td>\n",
       "      <td>2</td>\n",
       "      <td>13303.0</td>\n",
       "      <td>2517</td>\n",
       "      <td>10786.0</td>\n",
       "      <td>0.929</td>\n",
       "      <td>10219</td>\n",
       "      <td>85</td>\n",
       "      <td>0.809</td>\n",
       "      <td>0.189</td>\n",
       "    </tr>\n",
       "    <tr>\n",
       "      <th>10118</th>\n",
       "      <td>713755458</td>\n",
       "      <td>Attrited Customer</td>\n",
       "      <td>50</td>\n",
       "      <td>M</td>\n",
       "      <td>1</td>\n",
       "      <td>Unknown</td>\n",
       "      <td>Unknown</td>\n",
       "      <td>$80K - $120K</td>\n",
       "      <td>Blue</td>\n",
       "      <td>36</td>\n",
       "      <td>...</td>\n",
       "      <td>3</td>\n",
       "      <td>4</td>\n",
       "      <td>9959.0</td>\n",
       "      <td>952</td>\n",
       "      <td>9007.0</td>\n",
       "      <td>0.825</td>\n",
       "      <td>10310</td>\n",
       "      <td>63</td>\n",
       "      <td>1.100</td>\n",
       "      <td>0.096</td>\n",
       "    </tr>\n",
       "    <tr>\n",
       "      <th>10124</th>\n",
       "      <td>716506083</td>\n",
       "      <td>Attrited Customer</td>\n",
       "      <td>44</td>\n",
       "      <td>F</td>\n",
       "      <td>1</td>\n",
       "      <td>High School</td>\n",
       "      <td>Married</td>\n",
       "      <td>Less than $40K</td>\n",
       "      <td>Blue</td>\n",
       "      <td>36</td>\n",
       "      <td>...</td>\n",
       "      <td>3</td>\n",
       "      <td>4</td>\n",
       "      <td>5409.0</td>\n",
       "      <td>0</td>\n",
       "      <td>5409.0</td>\n",
       "      <td>0.819</td>\n",
       "      <td>10291</td>\n",
       "      <td>60</td>\n",
       "      <td>0.818</td>\n",
       "      <td>0.000</td>\n",
       "    </tr>\n",
       "  </tbody>\n",
       "</table>\n",
       "<p>308 rows × 21 columns</p>\n",
       "</div>"
      ],
      "text/plain": [
       "       CLIENTNUM     Attrition_Flag  Customer_Age Gender  Dependent_count  \\\n",
       "51     779471883  Attrited Customer            54      F                1   \n",
       "140    789322833  Attrited Customer            48      F                5   \n",
       "144    767712558  Attrited Customer            59      M                1   \n",
       "276    719211558  Attrited Customer            45      M                2   \n",
       "286    720272958  Attrited Customer            48      M                2   \n",
       "...          ...                ...           ...    ...              ...   \n",
       "10105  709646433  Attrited Customer            59      F                1   \n",
       "10107  713924283  Attrited Customer            61      M                0   \n",
       "10113  713733633  Attrited Customer            27      M                0   \n",
       "10118  713755458  Attrited Customer            50      M                1   \n",
       "10124  716506083  Attrited Customer            44      F                1   \n",
       "\n",
       "      Education_Level Marital_Status Income_Category Card_Category  \\\n",
       "51           Graduate        Married  Less than $40K          Blue   \n",
       "140       High School        Married  Less than $40K          Blue   \n",
       "144           College         Single     $60K - $80K          Blue   \n",
       "276          Graduate         Single     $60K - $80K          Blue   \n",
       "286       High School        Married         $120K +          Blue   \n",
       "...               ...            ...             ...           ...   \n",
       "10105     High School        Married  Less than $40K          Blue   \n",
       "10107        Graduate         Single     $60K - $80K          Blue   \n",
       "10113     High School       Divorced     $60K - $80K          Blue   \n",
       "10118         Unknown        Unknown    $80K - $120K          Blue   \n",
       "10124     High School        Married  Less than $40K          Blue   \n",
       "\n",
       "       Months_on_book  ...  Months_Inactive_Count_Last_Year  \\\n",
       "51                 40  ...                                3   \n",
       "140                38  ...                                3   \n",
       "144                53  ...                                3   \n",
       "276                36  ...                                1   \n",
       "286                36  ...                                3   \n",
       "...               ...  ...                              ...   \n",
       "10105              50  ...                                4   \n",
       "10107              54  ...                                1   \n",
       "10113              36  ...                                3   \n",
       "10118              36  ...                                3   \n",
       "10124              36  ...                                3   \n",
       "\n",
       "       Contacts_Count_Last_Year  Credit_Limit  Credit_Used  \\\n",
       "51                            1        1438.3          808   \n",
       "140                           3        8025.0            0   \n",
       "144                           3       14979.0            0   \n",
       "276                           2        3401.0            0   \n",
       "286                           3       27126.0            0   \n",
       "...                         ...           ...          ...   \n",
       "10105                         3        5043.0          743   \n",
       "10107                         4       11859.0         1644   \n",
       "10113                         2       13303.0         2517   \n",
       "10118                         4        9959.0          952   \n",
       "10124                         4        5409.0            0   \n",
       "\n",
       "       Credit_Open_To_Buy  Total_Amount_Change_Q4_vs_Q1  \\\n",
       "51                  630.3                         0.997   \n",
       "140                8025.0                         0.654   \n",
       "144               14979.0                         0.710   \n",
       "276                3401.0                         0.898   \n",
       "286               27126.0                         0.953   \n",
       "...                   ...                           ...   \n",
       "10105              4300.0                         0.805   \n",
       "10107             10215.0                         0.866   \n",
       "10113             10786.0                         0.929   \n",
       "10118              9007.0                         0.825   \n",
       "10124              5409.0                         0.819   \n",
       "\n",
       "       Total_Transitions_Amount  Total_Transitions_Count  \\\n",
       "51                          705                       19   \n",
       "140                         673                       18   \n",
       "144                         530                       10   \n",
       "276                         744                       18   \n",
       "286                        1000                       25   \n",
       "...                         ...                      ...   \n",
       "10105                     10170                       66   \n",
       "10107                      8930                       79   \n",
       "10113                     10219                       85   \n",
       "10118                     10310                       63   \n",
       "10124                     10291                       60   \n",
       "\n",
       "       Total_Count_Change_Q4_vs_Q1  Credit_Avg_Utilization_Ratio  \n",
       "51                           0.900                         0.562  \n",
       "140                          0.800                         0.000  \n",
       "144                          1.000                         0.000  \n",
       "276                          1.000                         0.000  \n",
       "286                          0.786                         0.000  \n",
       "...                            ...                           ...  \n",
       "10105                        0.784                         0.147  \n",
       "10107                        0.837                         0.139  \n",
       "10113                        0.809                         0.189  \n",
       "10118                        1.100                         0.096  \n",
       "10124                        0.818                         0.000  \n",
       "\n",
       "[308 rows x 21 columns]"
      ]
     },
     "execution_count": 7,
     "metadata": {},
     "output_type": "execute_result"
    }
   ],
   "source": [
    "x = loyal.Total_Count_Change_Q4_vs_Q1.mean()\n",
    "filter_results_2 = churn[churn[\"Total_Count_Change_Q4_vs_Q1\"] > x]\n",
    "filter_results_2"
   ]
  },
  {
   "cell_type": "code",
   "execution_count": 8,
   "metadata": {
    "collapsed": false,
    "pycharm": {
     "name": "#%%\n"
    }
   },
   "outputs": [
    {
     "data": {
      "image/png": "[encoded data removed]",
      "text/plain": [
       "<Figure size 2100x800 with 3 Axes>"
      ]
     },
     "metadata": {},
     "output_type": "display_data"
    }
   ],
   "source": [
    "figs = filter_results_2.explain(top_k=3, figs_in_row = 3)"
   ]
  },
  {
   "cell_type": "markdown",
   "metadata": {
    "collapsed": false,
    "pycharm": {
     "name": "#%% md\n"
    }
   },
   "source": [
    "# OPERATION #3"
   ]
  },
  {
   "cell_type": "code",
   "execution_count": null,
   "metadata": {
    "collapsed": false,
    "pycharm": {
     "name": "#%%\n"
    }
   },
   "outputs": [],
   "source": [
    "churn"
   ]
  },
  {
   "cell_type": "code",
   "execution_count": null,
   "metadata": {
    "collapsed": false,
    "pycharm": {
     "name": "#%%\n"
    }
   },
   "outputs": [],
   "source": [
    "group_by_decade_result = churn.groupby('Marital_Status').agg(\n",
    "    {\"Credit_Limit\":[ \"mean\", \"max\"], \"Credit_Used\": \"mean\"})"
   ]
  },
  {
   "cell_type": "code",
   "execution_count": null,
   "metadata": {
    "collapsed": false,
    "pycharm": {
     "name": "#%%\n"
    }
   },
   "outputs": [],
   "source": [
    "figures = group_by_decade_result.explain(top_k=2)"
   ]
  },
  {
   "cell_type": "code",
   "execution_count": null,
   "metadata": {
    "collapsed": false,
    "pycharm": {
     "name": "#%%\n"
    }
   },
   "outputs": [],
   "source": [
    "group_by_decade_result = churn.groupby([\"Marital_Status\", \"Gender\", \"Education_Level\"])['Credit_Used'].mean()\n",
    "\n"
   ]
  },
  {
   "cell_type": "code",
   "execution_count": null,
   "metadata": {
    "collapsed": false,
    "pycharm": {
     "name": "#%%\n"
    }
   },
   "outputs": [],
   "source": [
    "group_by_decade_result"
   ]
  },
  {
   "cell_type": "code",
   "execution_count": null,
   "metadata": {
    "collapsed": false,
    "pycharm": {
     "name": "#%%\n"
    }
   },
   "outputs": [],
   "source": [
    "figs = group_by_decade_result.explain(top_k = 5, show_scores=True)"
   ]
  },
  {
   "cell_type": "markdown",
   "metadata": {
    "collapsed": false,
    "pycharm": {
     "name": "#%% md\n"
    }
   },
   "source": [
    "# OPERATION #4"
   ]
  },
  {
   "cell_type": "code",
   "execution_count": null,
   "metadata": {
    "collapsed": false,
    "pycharm": {
     "name": "#%%\n"
    }
   },
   "outputs": [],
   "source": [
    "from functools import reduce\n",
    "\n",
    "def total_more_then_20(series):\n",
    "    return reduce(lambda x, y: x + 1 if y > 0.2 else x, series, 0)"
   ]
  },
  {
   "cell_type": "code",
   "execution_count": null,
   "metadata": {
    "collapsed": false,
    "pycharm": {
     "name": "#%%\n"
    }
   },
   "outputs": [],
   "source": [
    "group_by_decade_result = churn.groupby(by=['Income_Category', 'Gender', 'Education_Level']).agg(\n",
    "    {\"Credit_Avg_Utilization_Ratio\": ['mean', total_more_then_20]})\n",
    "group_by_decade_result"
   ]
  },
  {
   "cell_type": "code",
   "execution_count": null,
   "metadata": {
    "collapsed": false,
    "pycharm": {
     "name": "#%%\n"
    }
   },
   "outputs": [],
   "source": [
    "group_by_decade_result.explain(show_scores=True)"
   ]
  },
  {
   "cell_type": "markdown",
   "metadata": {
    "collapsed": false,
    "pycharm": {
     "name": "#%% md\n"
    }
   },
   "source": [
    "# JOIN EXAMPLE"
   ]
  },
  {
   "cell_type": "code",
   "execution_count": null,
   "metadata": {
    "collapsed": false,
    "pycharm": {
     "name": "#%%\n"
    }
   },
   "outputs": [],
   "source": [
    "from pd_explain.custom_bins.date_time_bin import bin_datetime\n",
    "from explain_ed.Measures.Bins import Bins\n",
    "\n",
    "products = pd.read_csv(r\"..\\Datasets\\products.csv\").rename(columns={'item_no': \"item\"})\n",
    "products['list_date'] = pd.to_datetime(products['list_date'], format='%Y-%m-%d %H:%M:%S')\n",
    "sales = pd.read_csv(r\"..\\Datasets\\sales.csv\")\n",
    "Bins.register_binning_method(bin_datetime, False)\n"
   ]
  },
  {
   "cell_type": "code",
   "execution_count": null,
   "metadata": {
    "collapsed": false,
    "pycharm": {
     "name": "#%%\n"
    }
   },
   "outputs": [],
   "source": [
    "sales"
   ]
  },
  {
   "cell_type": "code",
   "execution_count": null,
   "metadata": {
    "collapsed": false,
    "pycharm": {
     "name": "#%%\n"
    }
   },
   "outputs": [],
   "source": [
    "big_sales = sales[sales.total > 3000]\n",
    "big_sales"
   ]
  },
  {
   "cell_type": "code",
   "execution_count": null,
   "metadata": {
    "collapsed": false,
    "pycharm": {
     "name": "#%%\n"
    }
   },
   "outputs": [],
   "source": [
    "big_sales.explain()"
   ]
  },
  {
   "cell_type": "code",
   "execution_count": null,
   "metadata": {
    "collapsed": false,
    "pycharm": {
     "name": "#%%\n"
    }
   },
   "outputs": [],
   "source": [
    "products"
   ]
  },
  {
   "cell_type": "code",
   "execution_count": null,
   "metadata": {
    "collapsed": false,
    "pycharm": {
     "name": "#%%\n"
    }
   },
   "outputs": [],
   "source": [
    "join_results = products.join(sales, on=['item'], how='inner', lsuffix='_x', rsuffix='_y')"
   ]
  },
  {
   "cell_type": "code",
   "execution_count": null,
   "metadata": {
    "collapsed": false,
    "pycharm": {
     "name": "#%%\n"
    }
   },
   "outputs": [],
   "source": [
    "join_results.explain(top_k=2)"
   ]
  },
  {
   "cell_type": "markdown",
   "metadata": {
    "collapsed": false,
    "pycharm": {
     "name": "#%% md\n"
    }
   },
   "source": [
    "# Explain use only columns"
   ]
  },
  {
   "cell_type": "code",
   "execution_count": null,
   "metadata": {
    "collapsed": false,
    "pycharm": {
     "name": "#%%\n"
    }
   },
   "outputs": [],
   "source": [
    "join_results.explain(\n",
    "    attributes=['products_category_name', 'products_vendor', 'sales_county', 'sales_category_name', 'sales_vendor_no',\n",
    "                'sales_vendor', 'sales_pack', 'sales_liter_size', 'sales_state_btl_cost', 'sales_btl_price',\n",
    "                'sales_bottle_qty', 'sales_total'], top_k=3)"
   ]
  },
  {
   "cell_type": "markdown",
   "metadata": {
    "collapsed": false,
    "pycharm": {
     "name": "#%% md\n"
    }
   },
   "source": [
    "# Explain ignore columns"
   ]
  },
  {
   "cell_type": "code",
   "execution_count": null,
   "metadata": {
    "collapsed": false,
    "pycharm": {
     "name": "#%%\n"
    }
   },
   "outputs": [],
   "source": [
    "join_results = products.merge(sales, on=['item'])\n",
    "join_results"
   ]
  },
  {
   "cell_type": "code",
   "execution_count": null,
   "metadata": {
    "collapsed": false,
    "pycharm": {
     "name": "#%%\n"
    }
   },
   "outputs": [],
   "source": [
    "join_results.explain({\"dbl_date\": \"i\", \"dbr_date\": \"i\"})"
   ]
  },
  {
   "cell_type": "code",
   "execution_count": null,
   "metadata": {
    "collapsed": false,
    "pycharm": {
     "name": "#%%\n"
    }
   },
   "outputs": [],
   "source": []
  }
 ],
 "metadata": {
  "kernelspec": {
   "display_name": "Python 3 (ipykernel)",
   "language": "python",
   "name": "python3"
  },
  "language_info": {
   "codemirror_mode": {
    "name": "ipython",
    "version": 3
   },
   "file_extension": ".py",
   "mimetype": "text/x-python",
   "name": "python",
   "nbconvert_exporter": "python",
   "pygments_lexer": "ipython3",
   "version": "3.12.1"
  }
 },
 "nbformat": 4,
 "nbformat_minor": 2
}
