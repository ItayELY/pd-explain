{
 "cells": [
  {
   "cell_type": "code",
   "execution_count": 1,
   "metadata": {},
   "outputs": [
    {
     "name": "stdout",
     "output_type": "stream",
     "text": [
      "C:\\Users\\itaye\\Desktop\\pdexplain\\pd-explain\\src\n"
     ]
    },
    {
     "name": "stderr",
     "output_type": "stream",
     "text": [
      "C:\\Users\\itaye\\AppData\\Local\\Packages\\PythonSoftwareFoundation.Python.3.12_qbz5n2kfra8p0\\LocalCache\\local-packages\\Python312\\site-packages\\IPython\\core\\magics\\osm.py:417: UserWarning: using dhist requires you to install the `pickleshare` library.\n",
      "  self.shell.db['dhist'] = compress_dhist(dhist)[-100:]\n"
     ]
    }
   ],
   "source": [
    "%cd C:\\Users\\itaye\\Desktop\\pdexplain\\pd-explain\\src"
   ]
  },
  {
   "cell_type": "code",
   "execution_count": 3,
   "metadata": {},
   "outputs": [
    {
     "name": "stderr",
     "output_type": "stream",
     "text": [
      "C:\\Users\\itaye\\AppData\\Local\\Temp\\ipykernel_9632\\2046952530.py:1: DeprecationWarning: \n",
      "Pyarrow will become a required dependency of pandas in the next major release of pandas (pandas 3.0),\n",
      "(to allow more performant data types, such as the Arrow string type, and better interoperability with other libraries)\n",
      "but was not found to be installed on your system.\n",
      "If this would cause problems for you,\n",
      "please provide us feedback at https://github.com/pandas-dev/pandas/issues/54466\n",
      "        \n",
      "  import pandas as pd\n"
     ]
    },
    {
     "name": "stdout",
     "output_type": "stream",
     "text": [
      "usetex-False\n"
     ]
    }
   ],
   "source": [
    "import pandas as pd\n",
    "import pd_explain"
   ]
  },
  {
   "cell_type": "code",
   "execution_count": 4,
   "metadata": {},
   "outputs": [],
   "source": [
    "spotify_all = (pd.read_csv(r\"C:\\Users\\itaye\\Desktop\\pdexplain\\pd-explain\\Examples\\Datasets\\spotify_all.csv\"))\n"
   ]
  },
  {
   "cell_type": "code",
   "execution_count": 42,
   "metadata": {},
   "outputs": [],
   "source": [
    "popular_artists = spotify_all[(spotify_all.popularity>80)][['main_artist','popularity']].drop_duplicates(subset=['main_artist']).set_index('main_artist')"
   ]
  },
  {
   "cell_type": "code",
   "execution_count": 43,
   "metadata": {},
   "outputs": [
    {
     "data": {
      "text/html": [
       "<div>\n",
       "<style scoped>\n",
       "    .dataframe tbody tr th:only-of-type {\n",
       "        vertical-align: middle;\n",
       "    }\n",
       "\n",
       "    .dataframe tbody tr th {\n",
       "        vertical-align: top;\n",
       "    }\n",
       "\n",
       "    .dataframe thead th {\n",
       "        text-align: right;\n",
       "    }\n",
       "</style>\n",
       "<table border=\"1\" class=\"dataframe\">\n",
       "  <thead>\n",
       "    <tr style=\"text-align: right;\">\n",
       "      <th></th>\n",
       "      <th>popularity</th>\n",
       "    </tr>\n",
       "    <tr>\n",
       "      <th>main_artist</th>\n",
       "      <th></th>\n",
       "    </tr>\n",
       "  </thead>\n",
       "  <tbody>\n",
       "    <tr>\n",
       "      <th>Bobby Helms</th>\n",
       "      <td>85</td>\n",
       "    </tr>\n",
       "    <tr>\n",
       "      <th>Dean Martin</th>\n",
       "      <td>84</td>\n",
       "    </tr>\n",
       "    <tr>\n",
       "      <th>Nat King Cole</th>\n",
       "      <td>81</td>\n",
       "    </tr>\n",
       "    <tr>\n",
       "      <th>Andy Williams</th>\n",
       "      <td>85</td>\n",
       "    </tr>\n",
       "    <tr>\n",
       "      <th>The Ronettes</th>\n",
       "      <td>82</td>\n",
       "    </tr>\n",
       "    <tr>\n",
       "      <th>...</th>\n",
       "      <td>...</td>\n",
       "    </tr>\n",
       "    <tr>\n",
       "      <th>Kevin Roldan</th>\n",
       "      <td>81</td>\n",
       "    </tr>\n",
       "    <tr>\n",
       "      <th>Christian Nodal</th>\n",
       "      <td>81</td>\n",
       "    </tr>\n",
       "    <tr>\n",
       "      <th>Cali Y El Dandee</th>\n",
       "      <td>83</td>\n",
       "    </tr>\n",
       "    <tr>\n",
       "      <th>Nea</th>\n",
       "      <td>82</td>\n",
       "    </tr>\n",
       "    <tr>\n",
       "      <th>Flow La Movie</th>\n",
       "      <td>81</td>\n",
       "    </tr>\n",
       "  </tbody>\n",
       "</table>\n",
       "<p>246 rows × 1 columns</p>\n",
       "</div>"
      ],
      "text/plain": [
       "                  popularity\n",
       "main_artist                 \n",
       "Bobby Helms               85\n",
       "Dean Martin               84\n",
       "Nat King Cole             81\n",
       "Andy Williams             85\n",
       "The Ronettes              82\n",
       "...                      ...\n",
       "Kevin Roldan              81\n",
       "Christian Nodal           81\n",
       "Cali Y El Dandee          83\n",
       "Nea                       82\n",
       "Flow La Movie             81\n",
       "\n",
       "[246 rows x 1 columns]"
      ]
     },
     "execution_count": 43,
     "metadata": {},
     "output_type": "execute_result"
    }
   ],
   "source": [
    "popular_artists"
   ]
  },
  {
   "cell_type": "code",
   "execution_count": 41,
   "metadata": {},
   "outputs": [
    {
     "data": {
      "text/html": [
       "<div>\n",
       "<style scoped>\n",
       "    .dataframe tbody tr th:only-of-type {\n",
       "        vertical-align: middle;\n",
       "    }\n",
       "\n",
       "    .dataframe tbody tr th {\n",
       "        vertical-align: top;\n",
       "    }\n",
       "\n",
       "    .dataframe thead th {\n",
       "        text-align: right;\n",
       "    }\n",
       "</style>\n",
       "<table border=\"1\" class=\"dataframe\">\n",
       "  <thead>\n",
       "    <tr style=\"text-align: right;\">\n",
       "      <th></th>\n",
       "      <th>acousticness</th>\n",
       "    </tr>\n",
       "    <tr>\n",
       "      <th>main_artist</th>\n",
       "      <th></th>\n",
       "    </tr>\n",
       "  </thead>\n",
       "  <tbody>\n",
       "    <tr>\n",
       "      <th>Mamie Smith</th>\n",
       "      <td>0.991</td>\n",
       "    </tr>\n",
       "    <tr>\n",
       "      <th>Mamie Smith &amp; Her Jazz Hounds</th>\n",
       "      <td>0.996</td>\n",
       "    </tr>\n",
       "    <tr>\n",
       "      <th>Francisco Canaro</th>\n",
       "      <td>0.996</td>\n",
       "    </tr>\n",
       "    <tr>\n",
       "      <th>Dorville</th>\n",
       "      <td>0.952</td>\n",
       "    </tr>\n",
       "    <tr>\n",
       "      <th>Ka Koula</th>\n",
       "      <td>0.992</td>\n",
       "    </tr>\n",
       "    <tr>\n",
       "      <th>...</th>\n",
       "      <td>...</td>\n",
       "    </tr>\n",
       "    <tr>\n",
       "      <th>Felix Hertzog</th>\n",
       "      <td>0.938</td>\n",
       "    </tr>\n",
       "    <tr>\n",
       "      <th>Pop Smoke</th>\n",
       "      <td>0.907</td>\n",
       "    </tr>\n",
       "    <tr>\n",
       "      <th>Edith Whiskers</th>\n",
       "      <td>0.982</td>\n",
       "    </tr>\n",
       "    <tr>\n",
       "      <th>Last Year's Man</th>\n",
       "      <td>0.926</td>\n",
       "    </tr>\n",
       "    <tr>\n",
       "      <th>The People's Love Cult</th>\n",
       "      <td>0.936</td>\n",
       "    </tr>\n",
       "  </tbody>\n",
       "</table>\n",
       "<p>5977 rows × 1 columns</p>\n",
       "</div>"
      ],
      "text/plain": [
       "                               acousticness\n",
       "main_artist                                \n",
       "Mamie Smith                           0.991\n",
       "Mamie Smith & Her Jazz Hounds         0.996\n",
       "Francisco Canaro                      0.996\n",
       "Dorville                              0.952\n",
       "Ka Koula                              0.992\n",
       "...                                     ...\n",
       "Felix Hertzog                         0.938\n",
       "Pop Smoke                             0.907\n",
       "Edith Whiskers                        0.982\n",
       "Last Year's Man                       0.926\n",
       "The People's Love Cult                0.936\n",
       "\n",
       "[5977 rows x 1 columns]"
      ]
     },
     "execution_count": 41,
     "metadata": {},
     "output_type": "execute_result"
    }
   ],
   "source": [
    "acoustic_artists = spotify_all[(spotify_all.acousticness>0.9)][['main_artist', 'acousticness']].drop_duplicates(subset=['main_artist']).set_index('main_artist')\n",
    "acoustic_artists"
   ]
  },
  {
   "cell_type": "code",
   "execution_count": 49,
   "metadata": {},
   "outputs": [],
   "source": [
    "popular_acoustic_artists = popular_artists.join(acoustic_artists).dropna().index"
   ]
  },
  {
   "cell_type": "code",
   "execution_count": 50,
   "metadata": {},
   "outputs": [
    {
     "data": {
      "text/plain": [
       "Index(['Dean Martin', 'Nat King Cole', 'Andy Williams', 'Brenda Lee',\n",
       "       'The Beatles', 'Elton John', 'Lynyrd Skynyrd', 'Eagles',\n",
       "       'Fleetwood Mac', 'Paul McCartney', 'TOTO', 'Michael Jackson',\n",
       "       'The Police', 'Grover Washington, Jr.', 'Whitney Houston', 'R.E.M.',\n",
       "       'Mariah Carey', 'Frank Sinatra', 'Coldplay', 'Eminem',\n",
       "       'The White Stripes', 'Gorillaz', 'Shakira', 'Rihanna', 'John Lennon',\n",
       "       'Justin Bieber', 'Michael Bublé', 'Bruno Mars', 'John Legend',\n",
       "       'Kodaline', 'Ariana Grande', 'Sam Smith', 'Ed Sheeran', 'The Weeknd',\n",
       "       'Twenty One Pilots', 'XXXTENTACION', 'Frank Ocean', 'NF',\n",
       "       'Kendrick Lamar', 'Erik Eriksson', 'Billie Eilish', 'Joji', 'Drake',\n",
       "       'Panic! At The Disco', 'Calum Scott', 'Halsey', 'Jeremy Zucker',\n",
       "       'Clairo', 'Lewis Capaldi', 'Pop Smoke', 'Maroon 5', 'Labrinth',\n",
       "       'Bad Bunny', 'Taylor Swift', 'Tate McRae', 'Kid Cudi', 'ZAYN',\n",
       "       '347aidan', 'Pink Sweat$'],\n",
       "      dtype='object', name='main_artist')"
      ]
     },
     "execution_count": 50,
     "metadata": {},
     "output_type": "execute_result"
    }
   ],
   "source": [
    "popular_acoustic_artists"
   ]
  },
  {
   "cell_type": "code",
   "execution_count": 23,
   "metadata": {},
   "outputs": [
    {
     "data": {
      "text/plain": [
       "count              11\n",
       "unique             11\n",
       "top       Dean Martin\n",
       "freq                1\n",
       "Name: main_artist, dtype: object"
      ]
     },
     "execution_count": 23,
     "metadata": {},
     "output_type": "execute_result"
    }
   ],
   "source": [
    "popular_artists.describe()"
   ]
  }
 ],
 "metadata": {
  "kernelspec": {
   "display_name": "Python 3",
   "language": "python",
   "name": "python3"
  },
  "language_info": {
   "codemirror_mode": {
    "name": "ipython",
    "version": 3
   },
   "file_extension": ".py",
   "mimetype": "text/x-python",
   "name": "python",
   "nbconvert_exporter": "python",
   "pygments_lexer": "ipython3",
   "version": "3.12.4"
  }
 },
 "nbformat": 4,
 "nbformat_minor": 2
}
