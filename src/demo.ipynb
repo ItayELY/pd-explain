{
 "cells": [
  {
   "cell_type": "markdown",
   "metadata": {},
   "source": [
    "<span style=\"font-size:5em;\"><strong>EDA Notebook: Spotify Songs Dataset</strong></span>\n",
    "\n",
    "see https://www.kaggle.com/c/bfh-spotify-challenge/data?select=test.csv\n",
    "\n",
    "In this session, we explore the Spotify songs dataset. We are interested in learning about interesting patterns, and what makes a song more likely to be popular. "
   ]
  },
  {
   "cell_type": "markdown",
   "metadata": {},
   "source": [
    "# Technical setting"
   ]
  },
  {
   "cell_type": "code",
   "execution_count": 1,
   "metadata": {},
   "outputs": [
    {
     "name": "stdout",
     "output_type": "stream",
     "text": [
      "Defaulting to user installation because normal site-packages is not writeable\n",
      "Requirement already satisfied: pd-explain in c:\\users\\itaye\\appdata\\local\\packages\\pythonsoftwarefoundation.python.3.12_qbz5n2kfra8p0\\localcache\\local-packages\\python312\\site-packages (0.0.11)\n",
      "Requirement already satisfied: wheel in c:\\users\\itaye\\appdata\\local\\packages\\pythonsoftwarefoundation.python.3.12_qbz5n2kfra8p0\\localcache\\local-packages\\python312\\site-packages (from pd-explain) (0.42.0)\n",
      "Requirement already satisfied: pandas>=1.4.2 in c:\\users\\itaye\\appdata\\local\\packages\\pythonsoftwarefoundation.python.3.12_qbz5n2kfra8p0\\localcache\\local-packages\\python312\\site-packages (from pd-explain) (2.2.0)\n",
      "Requirement already satisfied: numpy>=1.20.3 in c:\\users\\itaye\\appdata\\local\\packages\\pythonsoftwarefoundation.python.3.12_qbz5n2kfra8p0\\localcache\\local-packages\\python312\\site-packages (from pd-explain) (1.26.4)\n",
      "Requirement already satisfied: python-dotenv in c:\\users\\itaye\\appdata\\local\\packages\\pythonsoftwarefoundation.python.3.12_qbz5n2kfra8p0\\localcache\\local-packages\\python312\\site-packages (from pd-explain) (1.0.1)\n",
      "Requirement already satisfied: singleton-decorator in c:\\users\\itaye\\appdata\\local\\packages\\pythonsoftwarefoundation.python.3.12_qbz5n2kfra8p0\\localcache\\local-packages\\python312\\site-packages (from pd-explain) (1.0.0)\n",
      "Requirement already satisfied: matplotlib in c:\\users\\itaye\\appdata\\local\\packages\\pythonsoftwarefoundation.python.3.12_qbz5n2kfra8p0\\localcache\\local-packages\\python312\\site-packages (from pd-explain) (3.8.3)\n",
      "Requirement already satisfied: fedex-generator>=0.0.5 in c:\\users\\itaye\\appdata\\local\\packages\\pythonsoftwarefoundation.python.3.12_qbz5n2kfra8p0\\localcache\\local-packages\\python312\\site-packages (from pd-explain) (0.0.7)\n",
      "Requirement already satisfied: ipython in c:\\users\\itaye\\appdata\\local\\packages\\pythonsoftwarefoundation.python.3.12_qbz5n2kfra8p0\\localcache\\local-packages\\python312\\site-packages (from fedex-generator>=0.0.5->pd-explain) (8.21.0)\n",
      "Requirement already satisfied: scipy in c:\\users\\itaye\\appdata\\local\\packages\\pythonsoftwarefoundation.python.3.12_qbz5n2kfra8p0\\localcache\\local-packages\\python312\\site-packages (from fedex-generator>=0.0.5->pd-explain) (1.12.0)\n",
      "Requirement already satisfied: paretoset in c:\\users\\itaye\\appdata\\local\\packages\\pythonsoftwarefoundation.python.3.12_qbz5n2kfra8p0\\localcache\\local-packages\\python312\\site-packages (from fedex-generator>=0.0.5->pd-explain) (1.2.3)\n",
      "Requirement already satisfied: python-dateutil>=2.8.2 in c:\\users\\itaye\\appdata\\local\\packages\\pythonsoftwarefoundation.python.3.12_qbz5n2kfra8p0\\localcache\\local-packages\\python312\\site-packages (from pandas>=1.4.2->pd-explain) (2.8.2)\n",
      "Requirement already satisfied: pytz>=2020.1 in c:\\users\\itaye\\appdata\\local\\packages\\pythonsoftwarefoundation.python.3.12_qbz5n2kfra8p0\\localcache\\local-packages\\python312\\site-packages (from pandas>=1.4.2->pd-explain) (2024.1)\n",
      "Requirement already satisfied: tzdata>=2022.7 in c:\\users\\itaye\\appdata\\local\\packages\\pythonsoftwarefoundation.python.3.12_qbz5n2kfra8p0\\localcache\\local-packages\\python312\\site-packages (from pandas>=1.4.2->pd-explain) (2024.1)\n",
      "Requirement already satisfied: contourpy>=1.0.1 in c:\\users\\itaye\\appdata\\local\\packages\\pythonsoftwarefoundation.python.3.12_qbz5n2kfra8p0\\localcache\\local-packages\\python312\\site-packages (from matplotlib->pd-explain) (1.2.0)\n",
      "Requirement already satisfied: cycler>=0.10 in c:\\users\\itaye\\appdata\\local\\packages\\pythonsoftwarefoundation.python.3.12_qbz5n2kfra8p0\\localcache\\local-packages\\python312\\site-packages (from matplotlib->pd-explain) (0.12.1)\n",
      "Requirement already satisfied: fonttools>=4.22.0 in c:\\users\\itaye\\appdata\\local\\packages\\pythonsoftwarefoundation.python.3.12_qbz5n2kfra8p0\\localcache\\local-packages\\python312\\site-packages (from matplotlib->pd-explain) (4.49.0)\n",
      "Requirement already satisfied: kiwisolver>=1.3.1 in c:\\users\\itaye\\appdata\\local\\packages\\pythonsoftwarefoundation.python.3.12_qbz5n2kfra8p0\\localcache\\local-packages\\python312\\site-packages (from matplotlib->pd-explain) (1.4.5)\n",
      "Requirement already satisfied: packaging>=20.0 in c:\\users\\itaye\\appdata\\local\\packages\\pythonsoftwarefoundation.python.3.12_qbz5n2kfra8p0\\localcache\\local-packages\\python312\\site-packages (from matplotlib->pd-explain) (23.2)\n",
      "Requirement already satisfied: pillow>=8 in c:\\users\\itaye\\appdata\\local\\packages\\pythonsoftwarefoundation.python.3.12_qbz5n2kfra8p0\\localcache\\local-packages\\python312\\site-packages (from matplotlib->pd-explain) (10.2.0)\n",
      "Requirement already satisfied: pyparsing>=2.3.1 in c:\\users\\itaye\\appdata\\local\\packages\\pythonsoftwarefoundation.python.3.12_qbz5n2kfra8p0\\localcache\\local-packages\\python312\\site-packages (from matplotlib->pd-explain) (3.1.1)\n",
      "Requirement already satisfied: six>=1.5 in c:\\users\\itaye\\appdata\\local\\packages\\pythonsoftwarefoundation.python.3.12_qbz5n2kfra8p0\\localcache\\local-packages\\python312\\site-packages (from python-dateutil>=2.8.2->pandas>=1.4.2->pd-explain) (1.16.0)\n",
      "Requirement already satisfied: decorator in c:\\users\\itaye\\appdata\\local\\packages\\pythonsoftwarefoundation.python.3.12_qbz5n2kfra8p0\\localcache\\local-packages\\python312\\site-packages (from ipython->fedex-generator>=0.0.5->pd-explain) (5.1.1)\n",
      "Requirement already satisfied: jedi>=0.16 in c:\\users\\itaye\\appdata\\local\\packages\\pythonsoftwarefoundation.python.3.12_qbz5n2kfra8p0\\localcache\\local-packages\\python312\\site-packages (from ipython->fedex-generator>=0.0.5->pd-explain) (0.19.1)\n",
      "Requirement already satisfied: matplotlib-inline in c:\\users\\itaye\\appdata\\local\\packages\\pythonsoftwarefoundation.python.3.12_qbz5n2kfra8p0\\localcache\\local-packages\\python312\\site-packages (from ipython->fedex-generator>=0.0.5->pd-explain) (0.1.6)\n",
      "Requirement already satisfied: prompt-toolkit<3.1.0,>=3.0.41 in c:\\users\\itaye\\appdata\\local\\packages\\pythonsoftwarefoundation.python.3.12_qbz5n2kfra8p0\\localcache\\local-packages\\python312\\site-packages (from ipython->fedex-generator>=0.0.5->pd-explain) (3.0.43)\n",
      "Requirement already satisfied: pygments>=2.4.0 in c:\\users\\itaye\\appdata\\local\\packages\\pythonsoftwarefoundation.python.3.12_qbz5n2kfra8p0\\localcache\\local-packages\\python312\\site-packages (from ipython->fedex-generator>=0.0.5->pd-explain) (2.17.2)\n",
      "Requirement already satisfied: stack-data in c:\\users\\itaye\\appdata\\local\\packages\\pythonsoftwarefoundation.python.3.12_qbz5n2kfra8p0\\localcache\\local-packages\\python312\\site-packages (from ipython->fedex-generator>=0.0.5->pd-explain) (0.6.3)\n",
      "Requirement already satisfied: traitlets>=5 in c:\\users\\itaye\\appdata\\local\\packages\\pythonsoftwarefoundation.python.3.12_qbz5n2kfra8p0\\localcache\\local-packages\\python312\\site-packages (from ipython->fedex-generator>=0.0.5->pd-explain) (5.14.1)\n",
      "Requirement already satisfied: colorama in c:\\users\\itaye\\appdata\\local\\packages\\pythonsoftwarefoundation.python.3.12_qbz5n2kfra8p0\\localcache\\local-packages\\python312\\site-packages (from ipython->fedex-generator>=0.0.5->pd-explain) (0.4.6)\n",
      "Requirement already satisfied: parso<0.9.0,>=0.8.3 in c:\\users\\itaye\\appdata\\local\\packages\\pythonsoftwarefoundation.python.3.12_qbz5n2kfra8p0\\localcache\\local-packages\\python312\\site-packages (from jedi>=0.16->ipython->fedex-generator>=0.0.5->pd-explain) (0.8.3)\n",
      "Requirement already satisfied: wcwidth in c:\\users\\itaye\\appdata\\local\\packages\\pythonsoftwarefoundation.python.3.12_qbz5n2kfra8p0\\localcache\\local-packages\\python312\\site-packages (from prompt-toolkit<3.1.0,>=3.0.41->ipython->fedex-generator>=0.0.5->pd-explain) (0.2.13)\n",
      "Requirement already satisfied: executing>=1.2.0 in c:\\users\\itaye\\appdata\\local\\packages\\pythonsoftwarefoundation.python.3.12_qbz5n2kfra8p0\\localcache\\local-packages\\python312\\site-packages (from stack-data->ipython->fedex-generator>=0.0.5->pd-explain) (2.0.1)\n",
      "Requirement already satisfied: asttokens>=2.1.0 in c:\\users\\itaye\\appdata\\local\\packages\\pythonsoftwarefoundation.python.3.12_qbz5n2kfra8p0\\localcache\\local-packages\\python312\\site-packages (from stack-data->ipython->fedex-generator>=0.0.5->pd-explain) (2.4.1)\n",
      "Requirement already satisfied: pure-eval in c:\\users\\itaye\\appdata\\local\\packages\\pythonsoftwarefoundation.python.3.12_qbz5n2kfra8p0\\localcache\\local-packages\\python312\\site-packages (from stack-data->ipython->fedex-generator>=0.0.5->pd-explain) (0.2.2)\n"
     ]
    }
   ],
   "source": [
    "!pip install pd-explain"
   ]
  },
  {
   "cell_type": "code",
   "execution_count": 3,
   "metadata": {},
   "outputs": [],
   "source": [
    "import sys\n",
    "import os\n",
    "import warnings\n",
    "warnings.filterwarnings(\"ignore\")"
   ]
  },
  {
   "cell_type": "markdown",
   "metadata": {},
   "source": [
    "# <span style=\"font-size:1.5em;\"><strong>Query Result & Outlier Explanation</strong></span>\n",
    "\n"
   ]
  },
  {
   "cell_type": "markdown",
   "metadata": {},
   "source": [
    "importing the Pandas and PD-Explain libraries:"
   ]
  },
  {
   "cell_type": "code",
   "execution_count": 4,
   "metadata": {},
   "outputs": [
    {
     "name": "stdout",
     "output_type": "stream",
     "text": [
      "usetex-False\n"
     ]
    }
   ],
   "source": [
    "import pandas as pd\n",
    "import pd_explain"
   ]
  },
  {
   "cell_type": "markdown",
   "metadata": {},
   "source": [
    "the Spotify songs dataset contains songs from spotify, with various attributes such popularity of the song(between 0-100), main artist of the song, weather it contains explicit lyrics or not, it's year of release etc.\n",
    "\n",
    "Loading the dataset to a pandas DataFrame using the read_csv() method:"
   ]
  },
  {
   "cell_type": "code",
   "execution_count": 5,
   "metadata": {},
   "outputs": [
    {
     "data": {
      "text/html": [
       "<div>\n",
       "<style scoped>\n",
       "    .dataframe tbody tr th:only-of-type {\n",
       "        vertical-align: middle;\n",
       "    }\n",
       "\n",
       "    .dataframe tbody tr th {\n",
       "        vertical-align: top;\n",
       "    }\n",
       "\n",
       "    .dataframe thead th {\n",
       "        text-align: right;\n",
       "    }\n",
       "</style>\n",
       "<table border=\"1\" class=\"dataframe\">\n",
       "  <thead>\n",
       "    <tr style=\"text-align: right;\">\n",
       "      <th></th>\n",
       "      <th>acousticness</th>\n",
       "      <th>artists</th>\n",
       "      <th>danceability</th>\n",
       "      <th>energy</th>\n",
       "      <th>explicit</th>\n",
       "      <th>id</th>\n",
       "      <th>instrumentalness</th>\n",
       "      <th>key</th>\n",
       "      <th>liveness</th>\n",
       "      <th>loudness</th>\n",
       "      <th>...</th>\n",
       "      <th>name</th>\n",
       "      <th>popularity</th>\n",
       "      <th>speechiness</th>\n",
       "      <th>tempo</th>\n",
       "      <th>valence</th>\n",
       "      <th>year</th>\n",
       "      <th>decade</th>\n",
       "      <th>popularity_score</th>\n",
       "      <th>main_artist</th>\n",
       "      <th>duration_minutes</th>\n",
       "    </tr>\n",
       "  </thead>\n",
       "  <tbody>\n",
       "    <tr>\n",
       "      <th>0</th>\n",
       "      <td>0.991000</td>\n",
       "      <td>['Mamie Smith']</td>\n",
       "      <td>0.598</td>\n",
       "      <td>0.224</td>\n",
       "      <td>0</td>\n",
       "      <td>0cS0A1fUEUd1EW3FcF8AEI</td>\n",
       "      <td>0.000522</td>\n",
       "      <td>5</td>\n",
       "      <td>0.3790</td>\n",
       "      <td>-12.628</td>\n",
       "      <td>...</td>\n",
       "      <td>Keep A Song In Your Soul</td>\n",
       "      <td>12</td>\n",
       "      <td>0.0936</td>\n",
       "      <td>149.976</td>\n",
       "      <td>0.6340</td>\n",
       "      <td>1920</td>\n",
       "      <td>1920</td>\n",
       "      <td>10</td>\n",
       "      <td>Mamie Smith</td>\n",
       "      <td>2.805550</td>\n",
       "    </tr>\n",
       "    <tr>\n",
       "      <th>1</th>\n",
       "      <td>0.643000</td>\n",
       "      <td>[\"Screamin' Jay Hawkins\"]</td>\n",
       "      <td>0.852</td>\n",
       "      <td>0.517</td>\n",
       "      <td>0</td>\n",
       "      <td>0hbkKFIJm7Z05H8Zl9w30f</td>\n",
       "      <td>0.026400</td>\n",
       "      <td>5</td>\n",
       "      <td>0.0809</td>\n",
       "      <td>-7.261</td>\n",
       "      <td>...</td>\n",
       "      <td>I Put A Spell On You</td>\n",
       "      <td>7</td>\n",
       "      <td>0.0534</td>\n",
       "      <td>86.889</td>\n",
       "      <td>0.9500</td>\n",
       "      <td>1920</td>\n",
       "      <td>1920</td>\n",
       "      <td>0</td>\n",
       "      <td>Screamin' Jay Hawkins</td>\n",
       "      <td>2.503333</td>\n",
       "    </tr>\n",
       "    <tr>\n",
       "      <th>2</th>\n",
       "      <td>0.993000</td>\n",
       "      <td>['Mamie Smith']</td>\n",
       "      <td>0.647</td>\n",
       "      <td>0.186</td>\n",
       "      <td>0</td>\n",
       "      <td>11m7laMUgmOKqI3oYzuhne</td>\n",
       "      <td>0.000018</td>\n",
       "      <td>0</td>\n",
       "      <td>0.5190</td>\n",
       "      <td>-12.098</td>\n",
       "      <td>...</td>\n",
       "      <td>Golfing Papa</td>\n",
       "      <td>4</td>\n",
       "      <td>0.1740</td>\n",
       "      <td>97.600</td>\n",
       "      <td>0.6890</td>\n",
       "      <td>1920</td>\n",
       "      <td>1920</td>\n",
       "      <td>0</td>\n",
       "      <td>Mamie Smith</td>\n",
       "      <td>2.730450</td>\n",
       "    </tr>\n",
       "    <tr>\n",
       "      <th>3</th>\n",
       "      <td>0.000173</td>\n",
       "      <td>['Oscar Velazquez']</td>\n",
       "      <td>0.730</td>\n",
       "      <td>0.798</td>\n",
       "      <td>0</td>\n",
       "      <td>19Lc5SfJJ5O1oaxY0fpwfh</td>\n",
       "      <td>0.801000</td>\n",
       "      <td>2</td>\n",
       "      <td>0.1280</td>\n",
       "      <td>-7.311</td>\n",
       "      <td>...</td>\n",
       "      <td>True House Music - Xavier Santos &amp; Carlos Gomi...</td>\n",
       "      <td>17</td>\n",
       "      <td>0.0425</td>\n",
       "      <td>127.997</td>\n",
       "      <td>0.0422</td>\n",
       "      <td>1920</td>\n",
       "      <td>1920</td>\n",
       "      <td>10</td>\n",
       "      <td>Oscar Velazquez</td>\n",
       "      <td>7.034783</td>\n",
       "    </tr>\n",
       "    <tr>\n",
       "      <th>4</th>\n",
       "      <td>0.295000</td>\n",
       "      <td>['Mixe']</td>\n",
       "      <td>0.704</td>\n",
       "      <td>0.707</td>\n",
       "      <td>1</td>\n",
       "      <td>2hJjbsLCytGsnAHfdsLejp</td>\n",
       "      <td>0.000246</td>\n",
       "      <td>10</td>\n",
       "      <td>0.4020</td>\n",
       "      <td>-6.036</td>\n",
       "      <td>...</td>\n",
       "      <td>Xuniverxe</td>\n",
       "      <td>2</td>\n",
       "      <td>0.0768</td>\n",
       "      <td>122.076</td>\n",
       "      <td>0.2990</td>\n",
       "      <td>1920</td>\n",
       "      <td>1920</td>\n",
       "      <td>0</td>\n",
       "      <td>Mixe</td>\n",
       "      <td>2.753733</td>\n",
       "    </tr>\n",
       "    <tr>\n",
       "      <th>...</th>\n",
       "      <td>...</td>\n",
       "      <td>...</td>\n",
       "      <td>...</td>\n",
       "      <td>...</td>\n",
       "      <td>...</td>\n",
       "      <td>...</td>\n",
       "      <td>...</td>\n",
       "      <td>...</td>\n",
       "      <td>...</td>\n",
       "      <td>...</td>\n",
       "      <td>...</td>\n",
       "      <td>...</td>\n",
       "      <td>...</td>\n",
       "      <td>...</td>\n",
       "      <td>...</td>\n",
       "      <td>...</td>\n",
       "      <td>...</td>\n",
       "      <td>...</td>\n",
       "      <td>...</td>\n",
       "      <td>...</td>\n",
       "      <td>...</td>\n",
       "    </tr>\n",
       "    <tr>\n",
       "      <th>174384</th>\n",
       "      <td>0.009170</td>\n",
       "      <td>['DJ Combo', 'Sander-7', 'Tony T']</td>\n",
       "      <td>0.792</td>\n",
       "      <td>0.866</td>\n",
       "      <td>0</td>\n",
       "      <td>46LhBf6TvYjZU2SMvGZAbn</td>\n",
       "      <td>0.000060</td>\n",
       "      <td>6</td>\n",
       "      <td>0.1780</td>\n",
       "      <td>-5.089</td>\n",
       "      <td>...</td>\n",
       "      <td>The One</td>\n",
       "      <td>0</td>\n",
       "      <td>0.0356</td>\n",
       "      <td>125.972</td>\n",
       "      <td>0.1860</td>\n",
       "      <td>2020</td>\n",
       "      <td>2020</td>\n",
       "      <td>0</td>\n",
       "      <td>DJ Combo</td>\n",
       "      <td>2.460250</td>\n",
       "    </tr>\n",
       "    <tr>\n",
       "      <th>174385</th>\n",
       "      <td>0.795000</td>\n",
       "      <td>['Alessia Cara']</td>\n",
       "      <td>0.429</td>\n",
       "      <td>0.211</td>\n",
       "      <td>0</td>\n",
       "      <td>7tue2Wemjd0FZzRtDrQFZd</td>\n",
       "      <td>0.000000</td>\n",
       "      <td>4</td>\n",
       "      <td>0.1960</td>\n",
       "      <td>-11.665</td>\n",
       "      <td>...</td>\n",
       "      <td>A Little More</td>\n",
       "      <td>0</td>\n",
       "      <td>0.0360</td>\n",
       "      <td>94.710</td>\n",
       "      <td>0.2280</td>\n",
       "      <td>2021</td>\n",
       "      <td>2020</td>\n",
       "      <td>0</td>\n",
       "      <td>Alessia Cara</td>\n",
       "      <td>2.412000</td>\n",
       "    </tr>\n",
       "    <tr>\n",
       "      <th>174386</th>\n",
       "      <td>0.806000</td>\n",
       "      <td>['Roger Fly']</td>\n",
       "      <td>0.671</td>\n",
       "      <td>0.589</td>\n",
       "      <td>0</td>\n",
       "      <td>48Qj61hOdYmUCFJbpQ29Ob</td>\n",
       "      <td>0.920000</td>\n",
       "      <td>4</td>\n",
       "      <td>0.1130</td>\n",
       "      <td>-12.393</td>\n",
       "      <td>...</td>\n",
       "      <td>Together</td>\n",
       "      <td>0</td>\n",
       "      <td>0.0282</td>\n",
       "      <td>108.058</td>\n",
       "      <td>0.7140</td>\n",
       "      <td>2020</td>\n",
       "      <td>2020</td>\n",
       "      <td>0</td>\n",
       "      <td>Roger Fly</td>\n",
       "      <td>3.635783</td>\n",
       "    </tr>\n",
       "    <tr>\n",
       "      <th>174387</th>\n",
       "      <td>0.920000</td>\n",
       "      <td>['Taylor Swift']</td>\n",
       "      <td>0.462</td>\n",
       "      <td>0.240</td>\n",
       "      <td>1</td>\n",
       "      <td>1gcyHQpBQ1lfXGdhZmWrHP</td>\n",
       "      <td>0.000000</td>\n",
       "      <td>0</td>\n",
       "      <td>0.1130</td>\n",
       "      <td>-12.077</td>\n",
       "      <td>...</td>\n",
       "      <td>champagne problems</td>\n",
       "      <td>69</td>\n",
       "      <td>0.0377</td>\n",
       "      <td>171.319</td>\n",
       "      <td>0.3200</td>\n",
       "      <td>2021</td>\n",
       "      <td>2020</td>\n",
       "      <td>60</td>\n",
       "      <td>Taylor Swift</td>\n",
       "      <td>4.066667</td>\n",
       "    </tr>\n",
       "    <tr>\n",
       "      <th>174388</th>\n",
       "      <td>0.239000</td>\n",
       "      <td>['Roger Fly']</td>\n",
       "      <td>0.677</td>\n",
       "      <td>0.460</td>\n",
       "      <td>0</td>\n",
       "      <td>57tgYkWQTNHVFEt6xDKKZj</td>\n",
       "      <td>0.891000</td>\n",
       "      <td>7</td>\n",
       "      <td>0.2150</td>\n",
       "      <td>-12.237</td>\n",
       "      <td>...</td>\n",
       "      <td>Improvisations</td>\n",
       "      <td>0</td>\n",
       "      <td>0.0258</td>\n",
       "      <td>112.208</td>\n",
       "      <td>0.7470</td>\n",
       "      <td>2020</td>\n",
       "      <td>2020</td>\n",
       "      <td>0</td>\n",
       "      <td>Roger Fly</td>\n",
       "      <td>3.295167</td>\n",
       "    </tr>\n",
       "  </tbody>\n",
       "</table>\n",
       "<p>174389 rows × 21 columns</p>\n",
       "</div>"
      ],
      "text/plain": [
       "        acousticness                             artists  danceability  \\\n",
       "0           0.991000                     ['Mamie Smith']         0.598   \n",
       "1           0.643000           [\"Screamin' Jay Hawkins\"]         0.852   \n",
       "2           0.993000                     ['Mamie Smith']         0.647   \n",
       "3           0.000173                 ['Oscar Velazquez']         0.730   \n",
       "4           0.295000                            ['Mixe']         0.704   \n",
       "...              ...                                 ...           ...   \n",
       "174384      0.009170  ['DJ Combo', 'Sander-7', 'Tony T']         0.792   \n",
       "174385      0.795000                    ['Alessia Cara']         0.429   \n",
       "174386      0.806000                       ['Roger Fly']         0.671   \n",
       "174387      0.920000                    ['Taylor Swift']         0.462   \n",
       "174388      0.239000                       ['Roger Fly']         0.677   \n",
       "\n",
       "        energy  explicit                      id  instrumentalness  key  \\\n",
       "0        0.224         0  0cS0A1fUEUd1EW3FcF8AEI          0.000522    5   \n",
       "1        0.517         0  0hbkKFIJm7Z05H8Zl9w30f          0.026400    5   \n",
       "2        0.186         0  11m7laMUgmOKqI3oYzuhne          0.000018    0   \n",
       "3        0.798         0  19Lc5SfJJ5O1oaxY0fpwfh          0.801000    2   \n",
       "4        0.707         1  2hJjbsLCytGsnAHfdsLejp          0.000246   10   \n",
       "...        ...       ...                     ...               ...  ...   \n",
       "174384   0.866         0  46LhBf6TvYjZU2SMvGZAbn          0.000060    6   \n",
       "174385   0.211         0  7tue2Wemjd0FZzRtDrQFZd          0.000000    4   \n",
       "174386   0.589         0  48Qj61hOdYmUCFJbpQ29Ob          0.920000    4   \n",
       "174387   0.240         1  1gcyHQpBQ1lfXGdhZmWrHP          0.000000    0   \n",
       "174388   0.460         0  57tgYkWQTNHVFEt6xDKKZj          0.891000    7   \n",
       "\n",
       "        liveness  loudness  ...  \\\n",
       "0         0.3790   -12.628  ...   \n",
       "1         0.0809    -7.261  ...   \n",
       "2         0.5190   -12.098  ...   \n",
       "3         0.1280    -7.311  ...   \n",
       "4         0.4020    -6.036  ...   \n",
       "...          ...       ...  ...   \n",
       "174384    0.1780    -5.089  ...   \n",
       "174385    0.1960   -11.665  ...   \n",
       "174386    0.1130   -12.393  ...   \n",
       "174387    0.1130   -12.077  ...   \n",
       "174388    0.2150   -12.237  ...   \n",
       "\n",
       "                                                     name popularity  \\\n",
       "0                                Keep A Song In Your Soul         12   \n",
       "1                                    I Put A Spell On You          7   \n",
       "2                                            Golfing Papa          4   \n",
       "3       True House Music - Xavier Santos & Carlos Gomi...         17   \n",
       "4                                               Xuniverxe          2   \n",
       "...                                                   ...        ...   \n",
       "174384                                            The One          0   \n",
       "174385                                      A Little More          0   \n",
       "174386                                           Together          0   \n",
       "174387                                 champagne problems         69   \n",
       "174388                                     Improvisations          0   \n",
       "\n",
       "        speechiness    tempo  valence  year  decade  popularity_score  \\\n",
       "0            0.0936  149.976   0.6340  1920    1920                10   \n",
       "1            0.0534   86.889   0.9500  1920    1920                 0   \n",
       "2            0.1740   97.600   0.6890  1920    1920                 0   \n",
       "3            0.0425  127.997   0.0422  1920    1920                10   \n",
       "4            0.0768  122.076   0.2990  1920    1920                 0   \n",
       "...             ...      ...      ...   ...     ...               ...   \n",
       "174384       0.0356  125.972   0.1860  2020    2020                 0   \n",
       "174385       0.0360   94.710   0.2280  2021    2020                 0   \n",
       "174386       0.0282  108.058   0.7140  2020    2020                 0   \n",
       "174387       0.0377  171.319   0.3200  2021    2020                60   \n",
       "174388       0.0258  112.208   0.7470  2020    2020                 0   \n",
       "\n",
       "                  main_artist duration_minutes  \n",
       "0                 Mamie Smith         2.805550  \n",
       "1       Screamin' Jay Hawkins         2.503333  \n",
       "2                 Mamie Smith         2.730450  \n",
       "3             Oscar Velazquez         7.034783  \n",
       "4                        Mixe         2.753733  \n",
       "...                       ...              ...  \n",
       "174384               DJ Combo         2.460250  \n",
       "174385           Alessia Cara         2.412000  \n",
       "174386              Roger Fly         3.635783  \n",
       "174387           Taylor Swift         4.066667  \n",
       "174388              Roger Fly         3.295167  \n",
       "\n",
       "[174389 rows x 21 columns]"
      ]
     },
     "execution_count": 5,
     "metadata": {},
     "output_type": "execute_result"
    }
   ],
   "source": [
    "songs_df = pd.read_csv(r\"..\\Examples\\Datasets\\spotify_all.csv\")\n",
    "songs_df"
   ]
  },
  {
   "cell_type": "markdown",
   "metadata": {},
   "source": [
    "Applying a filter operation, to only select popular songs-  with popularity greater than 65:"
   ]
  },
  {
   "cell_type": "code",
   "execution_count": 6,
   "metadata": {
    "scrolled": true
   },
   "outputs": [],
   "source": [
    "popular_songs_df = songs_df[songs_df['popularity'] > 65]"
   ]
  },
  {
   "cell_type": "markdown",
   "metadata": {},
   "source": [
    "Notice how PD-Explain keeps track of the operations and steps:"
   ]
  },
  {
   "cell_type": "code",
   "execution_count": 6,
   "metadata": {},
   "outputs": [
    {
     "name": "stdout",
     "output_type": "stream",
     "text": [
      "operation type: filter, source DF of operation: songs_df\n"
     ]
    }
   ],
   "source": [
    "print(f'operation type: {popular_songs_df.operation.type}, source DF of operation: {popular_songs_df.operation.source_name}')"
   ]
  },
  {
   "cell_type": "markdown",
   "metadata": {},
   "source": [
    "Calling the PD-Explain explain() function, to get explanations for the step:"
   ]
  },
  {
   "cell_type": "code",
   "execution_count": 8,
   "metadata": {},
   "outputs": [
    {
     "data": {
      "image/png": "[encoded data removed]",
      "text/plain": [
       "<Figure size 800x800 with 1 Axes>"
      ]
     },
     "metadata": {},
     "output_type": "display_data"
    }
   ],
   "source": [
    "popular_songs_df.explain()#exceptionality"
   ]
  },
  {
   "cell_type": "markdown",
   "metadata": {},
   "source": [
    "Applying another filter operation to select newer songs:"
   ]
  },
  {
   "cell_type": "code",
   "execution_count": 7,
   "metadata": {},
   "outputs": [],
   "source": [
    "new_songs_df = songs_df[songs_df['year'] >= 1990]"
   ]
  },
  {
   "cell_type": "markdown",
   "metadata": {},
   "source": [
    "Selecting the mean popularity of each decade: "
   ]
  },
  {
   "cell_type": "code",
   "execution_count": 10,
   "metadata": {},
   "outputs": [
    {
     "data": {
      "text/plain": [
       "decade\n",
       "1990    43.120769\n",
       "2000    43.167320\n",
       "2010    29.579203\n",
       "2020    19.171014\n",
       "Name: popularity_mean, dtype: float64"
      ]
     },
     "execution_count": 10,
     "metadata": {},
     "output_type": "execute_result"
    }
   ],
   "source": [
    "gb_decade = new_songs_df.groupby('decade')['popularity'].mean()\n",
    "gb_decade"
   ]
  },
  {
   "cell_type": "markdown",
   "metadata": {},
   "source": [
    "Calling the outlier explainer:"
   ]
  },
  {
   "cell_type": "code",
   "execution_count": 11,
   "metadata": {},
   "outputs": [
    {
     "data": {
      "image/png": "[encoded data removed]",
      "text/plain": [
       "<Figure size 700x700 with 1 Axes>"
      ]
     },
     "metadata": {},
     "output_type": "display_data"
    }
   ],
   "source": [
    "gb_decade.explain(explainer='outlier', target=2020, dir='low')"
   ]
  },
  {
   "cell_type": "markdown",
   "metadata": {},
   "source": [
    "# <span style=\"font-size:1.5em;\"><strong>Shapley Tuple Contribution Explanation</strong></span>\n",
    "\n",
    "\n",
    "\n",
    "\n"
   ]
  },
  {
   "cell_type": "markdown",
   "metadata": {},
   "source": [
    "Creating a list of all decades where Drake released songs:"
   ]
  },
  {
   "cell_type": "code",
   "execution_count": 12,
   "metadata": {},
   "outputs": [
    {
     "data": {
      "text/html": [
       "<div>\n",
       "<style scoped>\n",
       "    .dataframe tbody tr th:only-of-type {\n",
       "        vertical-align: middle;\n",
       "    }\n",
       "\n",
       "    .dataframe tbody tr th {\n",
       "        vertical-align: top;\n",
       "    }\n",
       "\n",
       "    .dataframe thead th {\n",
       "        text-align: right;\n",
       "    }\n",
       "</style>\n",
       "<table border=\"1\" class=\"dataframe\">\n",
       "  <thead>\n",
       "    <tr style=\"text-align: right;\">\n",
       "      <th></th>\n",
       "      <th>main_artist</th>\n",
       "      <th>decade</th>\n",
       "    </tr>\n",
       "  </thead>\n",
       "  <tbody>\n",
       "    <tr>\n",
       "      <th>0</th>\n",
       "      <td>Drake</td>\n",
       "      <td>2000</td>\n",
       "    </tr>\n",
       "    <tr>\n",
       "      <th>1</th>\n",
       "      <td>Drake</td>\n",
       "      <td>2010</td>\n",
       "    </tr>\n",
       "    <tr>\n",
       "      <th>2</th>\n",
       "      <td>Drake</td>\n",
       "      <td>2020</td>\n",
       "    </tr>\n",
       "  </tbody>\n",
       "</table>\n",
       "</div>"
      ],
      "text/plain": [
       "  main_artist  decade\n",
       "0       Drake    2000\n",
       "1       Drake    2010\n",
       "2       Drake    2020"
      ]
     },
     "execution_count": 12,
     "metadata": {},
     "output_type": "execute_result"
    }
   ],
   "source": [
    "drake_decades = songs_df[(songs_df['main_artist'] == 'Drake')][['main_artist', 'decade']].drop_duplicates().reset_index(drop=True)\n",
    "drake_decades"
   ]
  },
  {
   "cell_type": "markdown",
   "metadata": {},
   "source": [
    "Applying a filter, to only select very popular songs (popularity more than 80), their names and release decade, by Drake:"
   ]
  },
  {
   "cell_type": "code",
   "execution_count": 13,
   "metadata": {},
   "outputs": [
    {
     "name": "stdout",
     "output_type": "stream",
     "text": [
      "<class 'pd_explain.explainable_data_frame.ExpDataFrame'>\n"
     ]
    },
    {
     "data": {
      "text/html": [
       "<div>\n",
       "<style scoped>\n",
       "    .dataframe tbody tr th:only-of-type {\n",
       "        vertical-align: middle;\n",
       "    }\n",
       "\n",
       "    .dataframe tbody tr th {\n",
       "        vertical-align: top;\n",
       "    }\n",
       "\n",
       "    .dataframe thead th {\n",
       "        text-align: right;\n",
       "    }\n",
       "</style>\n",
       "<table border=\"1\" class=\"dataframe\">\n",
       "  <thead>\n",
       "    <tr style=\"text-align: right;\">\n",
       "      <th></th>\n",
       "      <th>main_artist</th>\n",
       "      <th>name</th>\n",
       "      <th>popularity</th>\n",
       "      <th>decade</th>\n",
       "    </tr>\n",
       "  </thead>\n",
       "  <tbody>\n",
       "    <tr>\n",
       "      <th>0</th>\n",
       "      <td>Drake</td>\n",
       "      <td>God's Plan</td>\n",
       "      <td>83</td>\n",
       "      <td>2010</td>\n",
       "    </tr>\n",
       "    <tr>\n",
       "      <th>1</th>\n",
       "      <td>Drake</td>\n",
       "      <td>Money In The Grave (Drake ft. Rick Ross)</td>\n",
       "      <td>81</td>\n",
       "      <td>2010</td>\n",
       "    </tr>\n",
       "    <tr>\n",
       "      <th>2</th>\n",
       "      <td>Drake</td>\n",
       "      <td>Laugh Now Cry Later (feat. Lil Durk)</td>\n",
       "      <td>89</td>\n",
       "      <td>2020</td>\n",
       "    </tr>\n",
       "    <tr>\n",
       "      <th>3</th>\n",
       "      <td>Drake</td>\n",
       "      <td>Chicago Freestyle (feat. Giveon)</td>\n",
       "      <td>83</td>\n",
       "      <td>2020</td>\n",
       "    </tr>\n",
       "    <tr>\n",
       "      <th>4</th>\n",
       "      <td>Drake</td>\n",
       "      <td>Toosie Slide</td>\n",
       "      <td>83</td>\n",
       "      <td>2020</td>\n",
       "    </tr>\n",
       "  </tbody>\n",
       "</table>\n",
       "</div>"
      ],
      "text/plain": [
       "  main_artist                                      name  popularity  decade\n",
       "0       Drake                                God's Plan          83    2010\n",
       "1       Drake  Money In The Grave (Drake ft. Rick Ross)          81    2010\n",
       "2       Drake      Laugh Now Cry Later (feat. Lil Durk)          89    2020\n",
       "3       Drake          Chicago Freestyle (feat. Giveon)          83    2020\n",
       "4       Drake                              Toosie Slide          83    2020"
      ]
     },
     "execution_count": 13,
     "metadata": {},
     "output_type": "execute_result"
    }
   ],
   "source": [
    "drake_very_popular = songs_df[(songs_df['main_artist'] == 'Drake') & (songs_df['popularity'] > 80)][['main_artist', 'name', 'popularity', 'decade']].drop_duplicates().reset_index(drop=True)\n",
    "print(type(drake_very_popular))\n",
    "drake_very_popular"
   ]
  },
  {
   "cell_type": "markdown",
   "metadata": {},
   "source": [
    "Joining all of the decades when drake performed with the DF of very popular songs by drake:"
   ]
  },
  {
   "cell_type": "code",
   "execution_count": 15,
   "metadata": {},
   "outputs": [
    {
     "data": {
      "text/html": [
       "<div>\n",
       "<style scoped>\n",
       "    .dataframe tbody tr th:only-of-type {\n",
       "        vertical-align: middle;\n",
       "    }\n",
       "\n",
       "    .dataframe tbody tr th {\n",
       "        vertical-align: top;\n",
       "    }\n",
       "\n",
       "    .dataframe thead th {\n",
       "        text-align: right;\n",
       "    }\n",
       "</style>\n",
       "<table border=\"1\" class=\"dataframe\">\n",
       "  <thead>\n",
       "    <tr style=\"text-align: right;\">\n",
       "      <th></th>\n",
       "      <th>index</th>\n",
       "      <th>main_artist</th>\n",
       "      <th>name</th>\n",
       "      <th>popularity</th>\n",
       "      <th>decade</th>\n",
       "    </tr>\n",
       "  </thead>\n",
       "  <tbody>\n",
       "    <tr>\n",
       "      <th>0</th>\n",
       "      <td>0</td>\n",
       "      <td>Drake</td>\n",
       "      <td>God's Plan</td>\n",
       "      <td>83</td>\n",
       "      <td>2010</td>\n",
       "    </tr>\n",
       "    <tr>\n",
       "      <th>1</th>\n",
       "      <td>1</td>\n",
       "      <td>Drake</td>\n",
       "      <td>Money In The Grave (Drake ft. Rick Ross)</td>\n",
       "      <td>81</td>\n",
       "      <td>2010</td>\n",
       "    </tr>\n",
       "    <tr>\n",
       "      <th>2</th>\n",
       "      <td>2</td>\n",
       "      <td>Drake</td>\n",
       "      <td>Laugh Now Cry Later (feat. Lil Durk)</td>\n",
       "      <td>89</td>\n",
       "      <td>2020</td>\n",
       "    </tr>\n",
       "    <tr>\n",
       "      <th>3</th>\n",
       "      <td>3</td>\n",
       "      <td>Drake</td>\n",
       "      <td>Chicago Freestyle (feat. Giveon)</td>\n",
       "      <td>83</td>\n",
       "      <td>2020</td>\n",
       "    </tr>\n",
       "    <tr>\n",
       "      <th>4</th>\n",
       "      <td>4</td>\n",
       "      <td>Drake</td>\n",
       "      <td>Toosie Slide</td>\n",
       "      <td>83</td>\n",
       "      <td>2020</td>\n",
       "    </tr>\n",
       "  </tbody>\n",
       "</table>\n",
       "</div>"
      ],
      "text/plain": [
       "   index main_artist                                      name  popularity  \\\n",
       "0      0       Drake                                God's Plan          83   \n",
       "1      1       Drake  Money In The Grave (Drake ft. Rick Ross)          81   \n",
       "2      2       Drake      Laugh Now Cry Later (feat. Lil Durk)          89   \n",
       "3      3       Drake          Chicago Freestyle (feat. Giveon)          83   \n",
       "4      4       Drake                              Toosie Slide          83   \n",
       "\n",
       "   decade  \n",
       "0    2010  \n",
       "1    2010  \n",
       "2    2020  \n",
       "3    2020  \n",
       "4    2020  "
      ]
     },
     "execution_count": 15,
     "metadata": {},
     "output_type": "execute_result"
    }
   ],
   "source": [
    "drake_popular_decades = drake_very_popular.join(drake_decades, on=['main_artist', 'decade'], how='inner')\n",
    "drake_popular_decades"
   ]
  },
  {
   "cell_type": "markdown",
   "metadata": {},
   "source": [
    "Calling the explain() function using the shapley explainer:"
   ]
  },
  {
   "cell_type": "code",
   "execution_count": 16,
   "metadata": {},
   "outputs": [
    {
     "data": {
      "image/png": "[encoded data removed]",
      "text/plain": [
       "<Figure size 1400x200 with 1 Axes>"
      ]
     },
     "metadata": {},
     "output_type": "display_data"
    }
   ],
   "source": [
    "drake_popular_decades.explain(explainer='shapley')"
   ]
  }
 ],
 "metadata": {
  "kernelspec": {
   "display_name": "Python 3 (ipykernel)",
   "language": "python",
   "name": "python3"
  },
  "language_info": {
   "codemirror_mode": {
    "name": "ipython",
    "version": 3
   },
   "file_extension": ".py",
   "mimetype": "text/x-python",
   "name": "python",
   "nbconvert_exporter": "python",
   "pygments_lexer": "ipython3",
   "version": "3.12.5"
  }
 },
 "nbformat": 4,
 "nbformat_minor": 4
}
